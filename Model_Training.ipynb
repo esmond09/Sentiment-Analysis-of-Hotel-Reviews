{
  "metadata": {
    "kernelspec": {
      "language": "python",
      "display_name": "Python 3",
      "name": "python3"
    },
    "language_info": {
      "name": "python",
      "version": "3.10.13",
      "mimetype": "text/x-python",
      "codemirror_mode": {
        "name": "ipython",
        "version": 3
      },
      "pygments_lexer": "ipython3",
      "nbconvert_exporter": "python",
      "file_extension": ".py"
    },
    "kaggle": {
      "accelerator": "nvidiaTeslaT4",
      "dataSources": [
        {
          "sourceId": 8802361,
          "sourceType": "datasetVersion",
          "datasetId": 5293586
        }
      ],
      "dockerImageVersionId": 30733,
      "isInternetEnabled": true,
      "language": "python",
      "sourceType": "notebook",
      "isGpuEnabled": true
    },
    "colab": {
      "provenance": []
    }
  },
  "nbformat_minor": 0,
  "nbformat": 4,
  "cells": [
    {
      "cell_type": "code",
      "source": [
        "! pip install pandas textblob googletrans==4.0.0-rc1 nltk contractions emoji"
      ],
      "metadata": {
        "_uuid": "8f2839f25d086af736a60e9eeb907d3b93b6e0e5",
        "_cell_guid": "b1076dfc-b9ad-4769-8c92-a6c4dae69d19",
        "execution": {
          "iopub.status.busy": "2024-06-27T15:23:43.667525Z",
          "iopub.execute_input": "2024-06-27T15:23:43.668123Z",
          "iopub.status.idle": "2024-06-27T15:24:04.443620Z",
          "shell.execute_reply.started": "2024-06-27T15:23:43.668093Z",
          "shell.execute_reply": "2024-06-27T15:24:04.442437Z"
        },
        "trusted": true,
        "colab": {
          "base_uri": "https://localhost:8080/"
        },
        "id": "eKdBD2_CLQd3",
        "outputId": "ee6207aa-e795-4b18-b55c-49eef8956cee"
      },
      "execution_count": 1,
      "outputs": [
        {
          "output_type": "stream",
          "name": "stdout",
          "text": [
            "Requirement already satisfied: pandas in /usr/local/lib/python3.10/dist-packages (2.0.3)\n",
            "Requirement already satisfied: textblob in /usr/local/lib/python3.10/dist-packages (0.17.1)\n",
            "Collecting googletrans==4.0.0-rc1\n",
            "  Downloading googletrans-4.0.0rc1.tar.gz (20 kB)\n",
            "  Preparing metadata (setup.py) ... \u001b[?25l\u001b[?25hdone\n",
            "Requirement already satisfied: nltk in /usr/local/lib/python3.10/dist-packages (3.8.1)\n",
            "Collecting contractions\n",
            "  Downloading contractions-0.1.73-py2.py3-none-any.whl (8.7 kB)\n",
            "Collecting emoji\n",
            "  Downloading emoji-2.12.1-py3-none-any.whl (431 kB)\n",
            "\u001b[2K     \u001b[90m━━━━━━━━━━━━━━━━━━━━━━━━━━━━━━━━━━━━━━━━\u001b[0m \u001b[32m431.4/431.4 kB\u001b[0m \u001b[31m3.0 MB/s\u001b[0m eta \u001b[36m0:00:00\u001b[0m\n",
            "\u001b[?25hCollecting httpx==0.13.3 (from googletrans==4.0.0-rc1)\n",
            "  Downloading httpx-0.13.3-py3-none-any.whl (55 kB)\n",
            "\u001b[2K     \u001b[90m━━━━━━━━━━━━━━━━━━━━━━━━━━━━━━━━━━━━━━━━\u001b[0m \u001b[32m55.1/55.1 kB\u001b[0m \u001b[31m2.5 MB/s\u001b[0m eta \u001b[36m0:00:00\u001b[0m\n",
            "\u001b[?25hRequirement already satisfied: certifi in /usr/local/lib/python3.10/dist-packages (from httpx==0.13.3->googletrans==4.0.0-rc1) (2024.6.2)\n",
            "Collecting hstspreload (from httpx==0.13.3->googletrans==4.0.0-rc1)\n",
            "  Downloading hstspreload-2024.6.1-py3-none-any.whl (1.2 MB)\n",
            "\u001b[2K     \u001b[90m━━━━━━━━━━━━━━━━━━━━━━━━━━━━━━━━━━━━━━━━\u001b[0m \u001b[32m1.2/1.2 MB\u001b[0m \u001b[31m17.4 MB/s\u001b[0m eta \u001b[36m0:00:00\u001b[0m\n",
            "\u001b[?25hRequirement already satisfied: sniffio in /usr/local/lib/python3.10/dist-packages (from httpx==0.13.3->googletrans==4.0.0-rc1) (1.3.1)\n",
            "Collecting chardet==3.* (from httpx==0.13.3->googletrans==4.0.0-rc1)\n",
            "  Downloading chardet-3.0.4-py2.py3-none-any.whl (133 kB)\n",
            "\u001b[2K     \u001b[90m━━━━━━━━━━━━━━━━━━━━━━━━━━━━━━━━━━━━━━━━\u001b[0m \u001b[32m133.4/133.4 kB\u001b[0m \u001b[31m8.2 MB/s\u001b[0m eta \u001b[36m0:00:00\u001b[0m\n",
            "\u001b[?25hCollecting idna==2.* (from httpx==0.13.3->googletrans==4.0.0-rc1)\n",
            "  Downloading idna-2.10-py2.py3-none-any.whl (58 kB)\n",
            "\u001b[2K     \u001b[90m━━━━━━━━━━━━━━━━━━━━━━━━━━━━━━━━━━━━━━━━\u001b[0m \u001b[32m58.8/58.8 kB\u001b[0m \u001b[31m3.8 MB/s\u001b[0m eta \u001b[36m0:00:00\u001b[0m\n",
            "\u001b[?25hCollecting rfc3986<2,>=1.3 (from httpx==0.13.3->googletrans==4.0.0-rc1)\n",
            "  Downloading rfc3986-1.5.0-py2.py3-none-any.whl (31 kB)\n",
            "Collecting httpcore==0.9.* (from httpx==0.13.3->googletrans==4.0.0-rc1)\n",
            "  Downloading httpcore-0.9.1-py3-none-any.whl (42 kB)\n",
            "\u001b[2K     \u001b[90m━━━━━━━━━━━━━━━━━━━━━━━━━━━━━━━━━━━━━━━━\u001b[0m \u001b[32m42.6/42.6 kB\u001b[0m \u001b[31m1.1 MB/s\u001b[0m eta \u001b[36m0:00:00\u001b[0m\n",
            "\u001b[?25hCollecting h11<0.10,>=0.8 (from httpcore==0.9.*->httpx==0.13.3->googletrans==4.0.0-rc1)\n",
            "  Downloading h11-0.9.0-py2.py3-none-any.whl (53 kB)\n",
            "\u001b[2K     \u001b[90m━━━━━━━━━━━━━━━━━━━━━━━━━━━━━━━━━━━━━━━━\u001b[0m \u001b[32m53.6/53.6 kB\u001b[0m \u001b[31m2.6 MB/s\u001b[0m eta \u001b[36m0:00:00\u001b[0m\n",
            "\u001b[?25hCollecting h2==3.* (from httpcore==0.9.*->httpx==0.13.3->googletrans==4.0.0-rc1)\n",
            "  Downloading h2-3.2.0-py2.py3-none-any.whl (65 kB)\n",
            "\u001b[2K     \u001b[90m━━━━━━━━━━━━━━━━━━━━━━━━━━━━━━━━━━━━━━━━\u001b[0m \u001b[32m65.0/65.0 kB\u001b[0m \u001b[31m3.1 MB/s\u001b[0m eta \u001b[36m0:00:00\u001b[0m\n",
            "\u001b[?25hCollecting hyperframe<6,>=5.2.0 (from h2==3.*->httpcore==0.9.*->httpx==0.13.3->googletrans==4.0.0-rc1)\n",
            "  Downloading hyperframe-5.2.0-py2.py3-none-any.whl (12 kB)\n",
            "Collecting hpack<4,>=3.0 (from h2==3.*->httpcore==0.9.*->httpx==0.13.3->googletrans==4.0.0-rc1)\n",
            "  Downloading hpack-3.0.0-py2.py3-none-any.whl (38 kB)\n",
            "Requirement already satisfied: python-dateutil>=2.8.2 in /usr/local/lib/python3.10/dist-packages (from pandas) (2.8.2)\n",
            "Requirement already satisfied: pytz>=2020.1 in /usr/local/lib/python3.10/dist-packages (from pandas) (2023.4)\n",
            "Requirement already satisfied: tzdata>=2022.1 in /usr/local/lib/python3.10/dist-packages (from pandas) (2024.1)\n",
            "Requirement already satisfied: numpy>=1.21.0 in /usr/local/lib/python3.10/dist-packages (from pandas) (1.25.2)\n",
            "Requirement already satisfied: click in /usr/local/lib/python3.10/dist-packages (from nltk) (8.1.7)\n",
            "Requirement already satisfied: joblib in /usr/local/lib/python3.10/dist-packages (from nltk) (1.4.2)\n",
            "Requirement already satisfied: regex>=2021.8.3 in /usr/local/lib/python3.10/dist-packages (from nltk) (2024.5.15)\n",
            "Requirement already satisfied: tqdm in /usr/local/lib/python3.10/dist-packages (from nltk) (4.66.4)\n",
            "Collecting textsearch>=0.0.21 (from contractions)\n",
            "  Downloading textsearch-0.0.24-py2.py3-none-any.whl (7.6 kB)\n",
            "Requirement already satisfied: typing-extensions>=4.7.0 in /usr/local/lib/python3.10/dist-packages (from emoji) (4.12.2)\n",
            "Requirement already satisfied: six>=1.5 in /usr/local/lib/python3.10/dist-packages (from python-dateutil>=2.8.2->pandas) (1.16.0)\n",
            "Collecting anyascii (from textsearch>=0.0.21->contractions)\n",
            "  Downloading anyascii-0.3.2-py3-none-any.whl (289 kB)\n",
            "\u001b[2K     \u001b[90m━━━━━━━━━━━━━━━━━━━━━━━━━━━━━━━━━━━━━━━━\u001b[0m \u001b[32m289.9/289.9 kB\u001b[0m \u001b[31m11.8 MB/s\u001b[0m eta \u001b[36m0:00:00\u001b[0m\n",
            "\u001b[?25hCollecting pyahocorasick (from textsearch>=0.0.21->contractions)\n",
            "  Downloading pyahocorasick-2.1.0-cp310-cp310-manylinux_2_5_x86_64.manylinux1_x86_64.manylinux_2_12_x86_64.manylinux2010_x86_64.whl (110 kB)\n",
            "\u001b[2K     \u001b[90m━━━━━━━━━━━━━━━━━━━━━━━━━━━━━━━━━━━━━━━━\u001b[0m \u001b[32m110.7/110.7 kB\u001b[0m \u001b[31m3.1 MB/s\u001b[0m eta \u001b[36m0:00:00\u001b[0m\n",
            "\u001b[?25hBuilding wheels for collected packages: googletrans\n",
            "  Building wheel for googletrans (setup.py) ... \u001b[?25l\u001b[?25hdone\n",
            "  Created wheel for googletrans: filename=googletrans-4.0.0rc1-py3-none-any.whl size=17395 sha256=8007f67b48070bef38c42bdc9d8fb63141bf45c222b23361f1b291589071aeb9\n",
            "  Stored in directory: /root/.cache/pip/wheels/c0/59/9f/7372f0cf70160fe61b528532e1a7c8498c4becd6bcffb022de\n",
            "Successfully built googletrans\n",
            "Installing collected packages: rfc3986, hyperframe, hpack, h11, chardet, pyahocorasick, idna, hstspreload, h2, emoji, anyascii, textsearch, httpcore, httpx, contractions, googletrans\n",
            "  Attempting uninstall: chardet\n",
            "    Found existing installation: chardet 5.2.0\n",
            "    Uninstalling chardet-5.2.0:\n",
            "      Successfully uninstalled chardet-5.2.0\n",
            "  Attempting uninstall: idna\n",
            "    Found existing installation: idna 3.7\n",
            "    Uninstalling idna-3.7:\n",
            "      Successfully uninstalled idna-3.7\n",
            "Successfully installed anyascii-0.3.2 chardet-3.0.4 contractions-0.1.73 emoji-2.12.1 googletrans-4.0.0rc1 h11-0.9.0 h2-3.2.0 hpack-3.0.0 hstspreload-2024.6.1 httpcore-0.9.1 httpx-0.13.3 hyperframe-5.2.0 idna-2.10 pyahocorasick-2.1.0 rfc3986-1.5.0 textsearch-0.0.24\n"
          ]
        }
      ]
    },
    {
      "cell_type": "code",
      "source": [
        "import nltk\n",
        "from nltk.corpus import opinion_lexicon, stopwords\n",
        "from nltk.tokenize import word_tokenize\n",
        "from nltk.stem import WordNetLemmatizer\n",
        "from nltk.tag import pos_tag\n",
        "import pandas as pd\n",
        "import re, contractions, emoji\n",
        "from string import punctuation\n",
        "from googletrans import Translator\n",
        "from nltk.util import bigrams\n",
        "from sklearn.feature_extraction.text import TfidfVectorizer\n",
        "\n",
        "# Ensure necessary NLTK data is available\n",
        "nltk.download('stopwords')\n",
        "nltk.download('punkt')\n",
        "nltk.download('averaged_perceptron_tagger')\n",
        "nltk.download('wordnet')\n",
        "\n",
        "# Initialize necessary objects\n",
        "translator = Translator()\n",
        "stop_words = set(stopwords.words('english'))\n",
        "lemmatizer = WordNetLemmatizer()"
      ],
      "metadata": {
        "execution": {
          "iopub.status.busy": "2024-06-27T15:24:04.445913Z",
          "iopub.execute_input": "2024-06-27T15:24:04.446686Z",
          "iopub.status.idle": "2024-06-27T15:24:07.712176Z",
          "shell.execute_reply.started": "2024-06-27T15:24:04.446642Z",
          "shell.execute_reply": "2024-06-27T15:24:07.711162Z"
        },
        "trusted": true,
        "colab": {
          "base_uri": "https://localhost:8080/"
        },
        "id": "j5msvu9CLQd5",
        "outputId": "dcb323b4-4a8b-4e94-e354-85eac7bcc990"
      },
      "execution_count": 7,
      "outputs": [
        {
          "output_type": "stream",
          "name": "stderr",
          "text": [
            "[nltk_data] Downloading package stopwords to /root/nltk_data...\n",
            "[nltk_data]   Package stopwords is already up-to-date!\n",
            "[nltk_data] Downloading package punkt to /root/nltk_data...\n",
            "[nltk_data]   Package punkt is already up-to-date!\n",
            "[nltk_data] Downloading package averaged_perceptron_tagger to\n",
            "[nltk_data]     /root/nltk_data...\n",
            "[nltk_data]   Package averaged_perceptron_tagger is already up-to-\n",
            "[nltk_data]       date!\n",
            "[nltk_data] Downloading package wordnet to /root/nltk_data...\n",
            "[nltk_data]   Package wordnet is already up-to-date!\n"
          ]
        }
      ]
    },
    {
      "cell_type": "code",
      "source": [
        "# Translation function\n",
        "def translate_to_english(text, src_lang):\n",
        "    if src_lang != 'en':\n",
        "        try:\n",
        "            translated = translator.translate(text, src=src_lang, dest='en')\n",
        "            return translated.text\n",
        "        except Exception as e:\n",
        "            print(f\"Translation error: {e}\")\n",
        "            return text\n",
        "    else:\n",
        "        return text\n",
        "\n",
        "# Preprocess function\n",
        "def preprocess(text, src_lang):\n",
        "    # Translate to English\n",
        "    translated_text = translate_to_english(text, src_lang)\n",
        "    # Lowercasing\n",
        "    translated_text = translated_text.lower()\n",
        "    # Expand contractions\n",
        "    text = contractions.fix(translated_text)\n",
        "    # Remove emojis\n",
        "    text = emoji.replace_emoji(text, replace='')\n",
        "    # Removing punctuation\n",
        "    text = text.translate(str.maketrans('', '', punctuation))\n",
        "    # Removing numeric values\n",
        "    cleaned_text = re.sub(r'\\d+', '', text)\n",
        "    # Tokenization\n",
        "    tokens = word_tokenize(cleaned_text)\n",
        "    # Lemmatization\n",
        "    lemma = [lemmatizer.lemmatize(token) for token in tokens]\n",
        "    # Join the tokens\n",
        "    processed_text = ' '.join(lemma)\n",
        "\n",
        "    return processed_text\n",
        "\n",
        "# Load the data\n",
        "df = pd.read_excel('/kaggle/input/dataset/hotel_reviews.xlsx')\n",
        "\n",
        "# Apply the preprocess function to the dataframe\n",
        "df['Preprocessed_Text'] = df.apply(lambda row: preprocess(row['review'], row['language']), axis=1)\n",
        "\n",
        "# Map the sentiment values\n",
        "sentiment_mapping = {'positive': 2, 'negative': 0, 'neutral': 1}\n",
        "df['sentiment'] = df['sentiment'].map(sentiment_mapping)\n",
        "\n",
        "# Drop the review and language columns\n",
        "df = df.drop(columns=['review', 'language'])\n",
        "\n",
        "# Save the processed data to a new CSV file\n",
        "output_file_path = 'preprocessed_hotel_reviews.csv'\n",
        "df.to_csv(output_file_path, index=False, encoding='utf-8')"
      ],
      "metadata": {
        "execution": {
          "iopub.status.busy": "2024-06-27T15:24:07.713463Z",
          "iopub.execute_input": "2024-06-27T15:24:07.713984Z",
          "iopub.status.idle": "2024-06-27T15:24:43.681846Z",
          "shell.execute_reply.started": "2024-06-27T15:24:07.713957Z",
          "shell.execute_reply": "2024-06-27T15:24:43.680836Z"
        },
        "trusted": true,
        "id": "AUf41OMFLQd5"
      },
      "execution_count": 8,
      "outputs": []
    },
    {
      "cell_type": "markdown",
      "source": [
        "# **Traditional Machine Learning**"
      ],
      "metadata": {
        "id": "4YHI0pglLQd6"
      }
    },
    {
      "cell_type": "code",
      "source": [
        "import pandas as pd\n",
        "from sklearn.model_selection import train_test_split\n",
        "import matplotlib.pyplot as plt\n",
        "import seaborn as sns\n",
        "from sklearn.svm import SVC\n",
        "from sklearn.ensemble import RandomForestClassifier\n",
        "from sklearn.linear_model import LogisticRegression\n",
        "from sklearn.neighbors import KNeighborsClassifier\n",
        "from sklearn.tree import DecisionTreeClassifier\n",
        "from sklearn.neural_network import MLPClassifier\n",
        "from sklearn.metrics import classification_report, accuracy_score, confusion_matrix\n",
        "\n",
        "# Load the preprocessed data\n",
        "#file_path = '/kaggle/working/preprocessed_hotel_reviews.csv'\n",
        "file_path = '/content/preprocessed_hotel_reviews.csv'\n",
        "data = pd.read_csv(file_path)\n",
        "\n",
        "# Extract features using TF-IDF\n",
        "vectorizer = TfidfVectorizer()\n",
        "X = vectorizer.fit_transform(data['Preprocessed_Text'])\n",
        "target = data['sentiment']\n",
        "\n",
        "# Split the data into training and testing sets\n",
        "X_train, X_test, y_train, y_test = train_test_split(X, target, test_size=0.3, random_state=42)"
      ],
      "metadata": {
        "execution": {
          "iopub.status.busy": "2024-06-27T15:32:12.016818Z",
          "iopub.execute_input": "2024-06-27T15:32:12.017216Z",
          "iopub.status.idle": "2024-06-27T15:32:12.493127Z",
          "shell.execute_reply.started": "2024-06-27T15:32:12.017186Z",
          "shell.execute_reply": "2024-06-27T15:32:12.492303Z"
        },
        "trusted": true,
        "id": "x6gd2ymWLQd7"
      },
      "execution_count": 9,
      "outputs": []
    },
    {
      "cell_type": "code",
      "source": [
        "# Initialize the classifiers\n",
        "classifiers = {\n",
        "    'SVM': SVC(kernel='linear', random_state=42),\n",
        "    'Random Forest': RandomForestClassifier(n_estimators=300, random_state=42),\n",
        "    'Logistic Regression': LogisticRegression(max_iter=1000, random_state=42),\n",
        "    'KNN': KNeighborsClassifier(n_neighbors=3),\n",
        "    'MLP': MLPClassifier(hidden_layer_sizes=(100,), max_iter=1000, random_state=42),\n",
        "    'Decision Tree': DecisionTreeClassifier(random_state=42)\n",
        "}\n",
        "\n",
        "# Train and evaluate each classifier\n",
        "for name, clf in classifiers.items():\n",
        "    clf.fit(X_train, y_train)\n",
        "    y_pred = clf.predict(X_test)\n",
        "    print(f\"Results for {name}:\")\n",
        "    print(\"Accuracy:\", accuracy_score(y_test, y_pred))\n",
        "    print(\"Classification Report:\")\n",
        "    print(classification_report(y_test, y_pred))\n",
        "    print(\"\\n\" + \"=\"*60 + \"\\n\")"
      ],
      "metadata": {
        "execution": {
          "iopub.status.busy": "2024-06-27T15:32:20.141063Z",
          "iopub.execute_input": "2024-06-27T15:32:20.141829Z",
          "iopub.status.idle": "2024-06-27T15:32:22.774697Z",
          "shell.execute_reply.started": "2024-06-27T15:32:20.141794Z",
          "shell.execute_reply": "2024-06-27T15:32:22.773671Z"
        },
        "trusted": true,
        "colab": {
          "base_uri": "https://localhost:8080/"
        },
        "id": "wDrqtMSGLQd7",
        "outputId": "71979730-27cb-425e-e998-f9ef1884e36e"
      },
      "execution_count": 10,
      "outputs": [
        {
          "output_type": "stream",
          "name": "stdout",
          "text": [
            "Results for SVM:\n",
            "Accuracy: 0.8611111111111112\n",
            "Classification Report:\n",
            "              precision    recall  f1-score   support\n",
            "\n",
            "           0       0.85      0.85      0.85        41\n",
            "           1       1.00      0.83      0.91        35\n",
            "           2       0.76      0.91      0.83        32\n",
            "\n",
            "    accuracy                           0.86       108\n",
            "   macro avg       0.87      0.86      0.86       108\n",
            "weighted avg       0.87      0.86      0.86       108\n",
            "\n",
            "\n",
            "============================================================\n",
            "\n",
            "Results for Random Forest:\n",
            "Accuracy: 0.8333333333333334\n",
            "Classification Report:\n",
            "              precision    recall  f1-score   support\n",
            "\n",
            "           0       0.78      0.85      0.81        41\n",
            "           1       1.00      0.83      0.91        35\n",
            "           2       0.76      0.81      0.79        32\n",
            "\n",
            "    accuracy                           0.83       108\n",
            "   macro avg       0.85      0.83      0.84       108\n",
            "weighted avg       0.85      0.83      0.84       108\n",
            "\n",
            "\n",
            "============================================================\n",
            "\n",
            "Results for Logistic Regression:\n",
            "Accuracy: 0.8148148148148148\n",
            "Classification Report:\n",
            "              precision    recall  f1-score   support\n",
            "\n",
            "           0       0.85      0.80      0.83        41\n",
            "           1       0.94      0.83      0.88        35\n",
            "           2       0.68      0.81      0.74        32\n",
            "\n",
            "    accuracy                           0.81       108\n",
            "   macro avg       0.82      0.82      0.82       108\n",
            "weighted avg       0.83      0.81      0.82       108\n",
            "\n",
            "\n",
            "============================================================\n",
            "\n",
            "Results for KNN:\n",
            "Accuracy: 0.5833333333333334\n",
            "Classification Report:\n",
            "              precision    recall  f1-score   support\n",
            "\n",
            "           0       0.59      0.54      0.56        41\n",
            "           1       0.55      0.60      0.58        35\n",
            "           2       0.61      0.62      0.62        32\n",
            "\n",
            "    accuracy                           0.58       108\n",
            "   macro avg       0.58      0.59      0.58       108\n",
            "weighted avg       0.58      0.58      0.58       108\n",
            "\n",
            "\n",
            "============================================================\n",
            "\n",
            "Results for MLP:\n",
            "Accuracy: 0.6851851851851852\n",
            "Classification Report:\n",
            "              precision    recall  f1-score   support\n",
            "\n",
            "           0       0.74      0.61      0.67        41\n",
            "           1       0.70      0.66      0.68        35\n",
            "           2       0.63      0.81      0.71        32\n",
            "\n",
            "    accuracy                           0.69       108\n",
            "   macro avg       0.69      0.69      0.69       108\n",
            "weighted avg       0.69      0.69      0.68       108\n",
            "\n",
            "\n",
            "============================================================\n",
            "\n",
            "Results for Decision Tree:\n",
            "Accuracy: 0.7592592592592593\n",
            "Classification Report:\n",
            "              precision    recall  f1-score   support\n",
            "\n",
            "           0       0.76      0.71      0.73        41\n",
            "           1       0.94      0.83      0.88        35\n",
            "           2       0.62      0.75      0.68        32\n",
            "\n",
            "    accuracy                           0.76       108\n",
            "   macro avg       0.77      0.76      0.76       108\n",
            "weighted avg       0.78      0.76      0.76       108\n",
            "\n",
            "\n",
            "============================================================\n",
            "\n"
          ]
        }
      ]
    },
    {
      "cell_type": "code",
      "source": [
        "# Initialize and train the SVM model\n",
        "svm_model = SVC(kernel='linear', C=1, random_state=42)\n",
        "svm_model.fit(X_train, y_train)\n",
        "\n",
        "# Make predictions on the test set\n",
        "y_pred = svm_model.predict(X_test)\n",
        "\n",
        "# Print the results\n",
        "print(\"Results for SVM:\")\n",
        "print(\"Accuracy:\", accuracy_score(y_test, y_pred))\n",
        "print(\"Classification Report:\")\n",
        "print(classification_report(y_test, y_pred))\n",
        "\n",
        "# Calculate the confusion matrix\n",
        "cm = confusion_matrix(y_test, y_pred)\n",
        "plt.figure(figsize=(10, 7))\n",
        "sns.heatmap(cm, annot=True, fmt='d', cmap='Blues')\n",
        "plt.xlabel('Predicted')\n",
        "plt.ylabel('True')\n",
        "plt.title('Confusion Matrix for SVM Model')\n",
        "plt.show()"
      ],
      "metadata": {
        "execution": {
          "iopub.status.busy": "2024-06-27T15:32:25.160125Z",
          "iopub.execute_input": "2024-06-27T15:32:25.160885Z",
          "iopub.status.idle": "2024-06-27T15:32:25.551087Z",
          "shell.execute_reply.started": "2024-06-27T15:32:25.160850Z",
          "shell.execute_reply": "2024-06-27T15:32:25.550162Z"
        },
        "trusted": true,
        "colab": {
          "base_uri": "https://localhost:8080/",
          "height": 867
        },
        "id": "U32TvaUoLQd7",
        "outputId": "d05e3562-896e-456c-f30a-3678a577d484"
      },
      "execution_count": 11,
      "outputs": [
        {
          "output_type": "stream",
          "name": "stdout",
          "text": [
            "Results for SVM:\n",
            "Accuracy: 0.8611111111111112\n",
            "Classification Report:\n",
            "              precision    recall  f1-score   support\n",
            "\n",
            "           0       0.85      0.85      0.85        41\n",
            "           1       1.00      0.83      0.91        35\n",
            "           2       0.76      0.91      0.83        32\n",
            "\n",
            "    accuracy                           0.86       108\n",
            "   macro avg       0.87      0.86      0.86       108\n",
            "weighted avg       0.87      0.86      0.86       108\n",
            "\n"
          ]
        },
        {
          "output_type": "display_data",
          "data": {
            "text/plain": [
              "<Figure size 1000x700 with 2 Axes>"
            ],
            "image/png": "[encoded data removed]"
          },
          "metadata": {}
        }
      ]
    },
    {
      "cell_type": "code",
      "source": [
        "# Preprocess function\n",
        "def preprocess(text, src_lang='auto'):\n",
        "    print(f\"Original text: {text}\")\n",
        "\n",
        "    # Translate to English\n",
        "    translated_text = translate_to_english(text, src_lang)\n",
        "    print(f\"Translated text: {translated_text}\")\n",
        "\n",
        "    # Lowercasing\n",
        "    translated_text = translated_text.lower()\n",
        "    print(f\"Lowercased text: {translated_text}\")\n",
        "\n",
        "    # Expand contractions\n",
        "    text = contractions.fix(translated_text)\n",
        "    print(f\"Expanded contractions: {text}\")\n",
        "\n",
        "    # Remove emojis\n",
        "    text = emoji.replace_emoji(text, replace='')\n",
        "    print(f\"Removed emojis: {text}\")\n",
        "\n",
        "    # Removing punctuation\n",
        "    text = text.translate(str.maketrans('', '', punctuation))\n",
        "    print(f\"Removed punctuation: {text}\")\n",
        "\n",
        "    # Removing numeric values\n",
        "    cleaned_text = re.sub(r'\\d+', '', text)\n",
        "    print(f\"Removed numeric values: {cleaned_text}\")\n",
        "\n",
        "    # Tokenization\n",
        "    tokens = word_tokenize(cleaned_text)\n",
        "    print(f\"Tokenized text: {tokens}\")\n",
        "\n",
        "    # Lemmatization\n",
        "    tokens = [lemmatizer.lemmatize(token) for token in tokens]\n",
        "    print(f\"Lemmatized text: {tokens}\")\n",
        "\n",
        "    return ' '.join(tokens)\n",
        "\n",
        "# Function to classify new text\n",
        "def classify_new_text(text, src_lang='auto'):\n",
        "    processed_text = preprocess(text, src_lang)\n",
        "    vectorized_text = vectorizer.transform([processed_text])\n",
        "    prediction = svm_model.predict(vectorized_text)\n",
        "    return prediction\n",
        "\n",
        "# Example texts for classification\n",
        "texts = [\n",
        "    \"The hotel was fantastic! The room was clean and the staff were very friendly.\",\n",
        "    \"I had a terrible experience. The room was dirty and the service was awful.\",\n",
        "    \"Kakitangan yang amat mesra\",\n",
        "    \"服务很好。\",\n",
        "    \"早餐不好吃。\",\n",
        "    \"The stay was okay, nothing special but nothing terrible either.\"\n",
        "]\n",
        "\n",
        "# Classify the example texts\n",
        "for text in texts:\n",
        "    sentiment = classify_new_text(text)\n",
        "    print(f\"Predicted Sentiment: {sentiment[0]}\\n\")"
      ],
      "metadata": {
        "execution": {
          "iopub.status.busy": "2024-06-27T15:32:55.969959Z",
          "iopub.execute_input": "2024-06-27T15:32:55.970629Z",
          "iopub.status.idle": "2024-06-27T15:32:57.503629Z",
          "shell.execute_reply.started": "2024-06-27T15:32:55.970596Z",
          "shell.execute_reply": "2024-06-27T15:32:57.502733Z"
        },
        "trusted": true,
        "colab": {
          "base_uri": "https://localhost:8080/"
        },
        "id": "UDG_gqxJLQd7",
        "outputId": "68a56938-2eec-4dd8-f94e-cb9c09b36fe3"
      },
      "execution_count": 12,
      "outputs": [
        {
          "output_type": "stream",
          "name": "stdout",
          "text": [
            "Original text: The hotel was fantastic! The room was clean and the staff were very friendly.\n",
            "Translated text: The hotel was fantastic! The room was clean and the staff were very friendly.\n",
            "Lowercased text: the hotel was fantastic! the room was clean and the staff were very friendly.\n",
            "Expanded contractions: the hotel was fantastic! the room was clean and the staff were very friendly.\n",
            "Removed emojis: the hotel was fantastic! the room was clean and the staff were very friendly.\n",
            "Removed punctuation: the hotel was fantastic the room was clean and the staff were very friendly\n",
            "Removed numeric values: the hotel was fantastic the room was clean and the staff were very friendly\n",
            "Tokenized text: ['the', 'hotel', 'was', 'fantastic', 'the', 'room', 'was', 'clean', 'and', 'the', 'staff', 'were', 'very', 'friendly']\n",
            "Lemmatized text: ['the', 'hotel', 'wa', 'fantastic', 'the', 'room', 'wa', 'clean', 'and', 'the', 'staff', 'were', 'very', 'friendly']\n",
            "Predicted Sentiment: 2\n",
            "\n",
            "Original text: I had a terrible experience. The room was dirty and the service was awful.\n",
            "Translated text: I had a terrible experience. The room was dirty and the service was awful.\n",
            "Lowercased text: i had a terrible experience. the room was dirty and the service was awful.\n",
            "Expanded contractions: i had a terrible experience. the room was dirty and the service was awful.\n",
            "Removed emojis: i had a terrible experience. the room was dirty and the service was awful.\n",
            "Removed punctuation: i had a terrible experience the room was dirty and the service was awful\n",
            "Removed numeric values: i had a terrible experience the room was dirty and the service was awful\n",
            "Tokenized text: ['i', 'had', 'a', 'terrible', 'experience', 'the', 'room', 'was', 'dirty', 'and', 'the', 'service', 'was', 'awful']\n",
            "Lemmatized text: ['i', 'had', 'a', 'terrible', 'experience', 'the', 'room', 'wa', 'dirty', 'and', 'the', 'service', 'wa', 'awful']\n",
            "Predicted Sentiment: 0\n",
            "\n",
            "Original text: Kakitangan yang amat mesra\n",
            "Translation error: 'Translator' object has no attribute 'raise_Exception'\n",
            "Translated text: Kakitangan yang amat mesra\n",
            "Lowercased text: kakitangan yang amat mesra\n",
            "Expanded contractions: kakitangan yang amat mesra\n",
            "Removed emojis: kakitangan yang amat mesra\n",
            "Removed punctuation: kakitangan yang amat mesra\n",
            "Removed numeric values: kakitangan yang amat mesra\n",
            "Tokenized text: ['kakitangan', 'yang', 'amat', 'mesra']\n",
            "Lemmatized text: ['kakitangan', 'yang', 'amat', 'mesra']\n",
            "Predicted Sentiment: 0\n",
            "\n",
            "Original text: 服务很好。\n",
            "Translated text: The service was excellent.\n",
            "Lowercased text: the service was excellent.\n",
            "Expanded contractions: the service was excellent.\n",
            "Removed emojis: the service was excellent.\n",
            "Removed punctuation: the service was excellent\n",
            "Removed numeric values: the service was excellent\n",
            "Tokenized text: ['the', 'service', 'was', 'excellent']\n",
            "Lemmatized text: ['the', 'service', 'wa', 'excellent']\n",
            "Predicted Sentiment: 2\n",
            "\n",
            "Original text: 早餐不好吃。\n",
            "Translated text: Breakfast is not delicious.\n",
            "Lowercased text: breakfast is not delicious.\n",
            "Expanded contractions: breakfast is not delicious.\n",
            "Removed emojis: breakfast is not delicious.\n",
            "Removed punctuation: breakfast is not delicious\n",
            "Removed numeric values: breakfast is not delicious\n",
            "Tokenized text: ['breakfast', 'is', 'not', 'delicious']\n",
            "Lemmatized text: ['breakfast', 'is', 'not', 'delicious']\n",
            "Predicted Sentiment: 0\n",
            "\n",
            "Original text: The stay was okay, nothing special but nothing terrible either.\n",
            "Translation error: 'Translator' object has no attribute 'raise_Exception'\n",
            "Translated text: The stay was okay, nothing special but nothing terrible either.\n",
            "Lowercased text: the stay was okay, nothing special but nothing terrible either.\n",
            "Expanded contractions: the stay was okay, nothing special but nothing terrible either.\n",
            "Removed emojis: the stay was okay, nothing special but nothing terrible either.\n",
            "Removed punctuation: the stay was okay nothing special but nothing terrible either\n",
            "Removed numeric values: the stay was okay nothing special but nothing terrible either\n",
            "Tokenized text: ['the', 'stay', 'was', 'okay', 'nothing', 'special', 'but', 'nothing', 'terrible', 'either']\n",
            "Lemmatized text: ['the', 'stay', 'wa', 'okay', 'nothing', 'special', 'but', 'nothing', 'terrible', 'either']\n",
            "Predicted Sentiment: 1\n",
            "\n"
          ]
        }
      ]
    },
    {
      "cell_type": "markdown",
      "source": [
        "# **Transformer Model - ALBERT**"
      ],
      "metadata": {
        "id": "3jBeu3IyLQd8"
      }
    },
    {
      "cell_type": "code",
      "source": [
        "!pip install transformers torch accelerate -U"
      ],
      "metadata": {
        "execution": {
          "iopub.status.busy": "2024-06-27T15:33:07.601092Z",
          "iopub.execute_input": "2024-06-27T15:33:07.601498Z",
          "iopub.status.idle": "2024-06-27T15:35:28.481040Z",
          "shell.execute_reply.started": "2024-06-27T15:33:07.601467Z",
          "shell.execute_reply": "2024-06-27T15:35:28.479637Z"
        },
        "trusted": true,
        "id": "wnp2TjQiLQd8",
        "outputId": "c43920f0-7c27-4c0b-9c1a-512b0240a0b3"
      },
      "execution_count": null,
      "outputs": [
        {
          "name": "stdout",
          "text": "Requirement already satisfied: transformers in /opt/conda/lib/python3.10/site-packages (4.41.2)\nRequirement already satisfied: torch in /opt/conda/lib/python3.10/site-packages (2.1.2)\nCollecting torch\n  Downloading torch-2.3.1-cp310-cp310-manylinux1_x86_64.whl.metadata (26 kB)\nRequirement already satisfied: accelerate in /opt/conda/lib/python3.10/site-packages (0.30.1)\nCollecting accelerate\n  Downloading accelerate-0.31.0-py3-none-any.whl.metadata (19 kB)\nRequirement already satisfied: filelock in /opt/conda/lib/python3.10/site-packages (from transformers) (3.13.1)\nRequirement already satisfied: huggingface-hub<1.0,>=0.23.0 in /opt/conda/lib/python3.10/site-packages (from transformers) (0.23.2)\nRequirement already satisfied: numpy>=1.17 in /opt/conda/lib/python3.10/site-packages (from transformers) (1.26.4)\nRequirement already satisfied: packaging>=20.0 in /opt/conda/lib/python3.10/site-packages (from transformers) (21.3)\nRequirement already satisfied: pyyaml>=5.1 in /opt/conda/lib/python3.10/site-packages (from transformers) (6.0.1)\nRequirement already satisfied: regex!=2019.12.17 in /opt/conda/lib/python3.10/site-packages (from transformers) (2023.12.25)\nRequirement already satisfied: requests in /opt/conda/lib/python3.10/site-packages (from transformers) (2.32.3)\nRequirement already satisfied: tokenizers<0.20,>=0.19 in /opt/conda/lib/python3.10/site-packages (from transformers) (0.19.1)\nRequirement already satisfied: safetensors>=0.4.1 in /opt/conda/lib/python3.10/site-packages (from transformers) (0.4.3)\nRequirement already satisfied: tqdm>=4.27 in /opt/conda/lib/python3.10/site-packages (from transformers) (4.66.4)\nRequirement already satisfied: typing-extensions>=4.8.0 in /opt/conda/lib/python3.10/site-packages (from torch) (4.9.0)\nRequirement already satisfied: sympy in /opt/conda/lib/python3.10/site-packages (from torch) (1.12.1)\nRequirement already satisfied: networkx in /opt/conda/lib/python3.10/site-packages (from torch) (3.2.1)\nRequirement already satisfied: jinja2 in /opt/conda/lib/python3.10/site-packages (from torch) (3.1.2)\nRequirement already satisfied: fsspec in /opt/conda/lib/python3.10/site-packages (from torch) (2024.3.1)\nCollecting nvidia-cuda-nvrtc-cu12==12.1.105 (from torch)\n  Downloading nvidia_cuda_nvrtc_cu12-12.1.105-py3-none-manylinux1_x86_64.whl.metadata (1.5 kB)\nCollecting nvidia-cuda-runtime-cu12==12.1.105 (from torch)\n  Downloading nvidia_cuda_runtime_cu12-12.1.105-py3-none-manylinux1_x86_64.whl.metadata (1.5 kB)\nCollecting nvidia-cuda-cupti-cu12==12.1.105 (from torch)\n  Downloading nvidia_cuda_cupti_cu12-12.1.105-py3-none-manylinux1_x86_64.whl.metadata (1.6 kB)\nCollecting nvidia-cudnn-cu12==8.9.2.26 (from torch)\n  Downloading nvidia_cudnn_cu12-8.9.2.26-py3-none-manylinux1_x86_64.whl.metadata (1.6 kB)\nCollecting nvidia-cublas-cu12==12.1.3.1 (from torch)\n  Downloading nvidia_cublas_cu12-12.1.3.1-py3-none-manylinux1_x86_64.whl.metadata (1.5 kB)\nCollecting nvidia-cufft-cu12==11.0.2.54 (from torch)\n  Downloading nvidia_cufft_cu12-11.0.2.54-py3-none-manylinux1_x86_64.whl.metadata (1.5 kB)\nCollecting nvidia-curand-cu12==10.3.2.106 (from torch)\n  Downloading nvidia_curand_cu12-10.3.2.106-py3-none-manylinux1_x86_64.whl.metadata (1.5 kB)\nCollecting nvidia-cusolver-cu12==11.4.5.107 (from torch)\n  Downloading nvidia_cusolver_cu12-11.4.5.107-py3-none-manylinux1_x86_64.whl.metadata (1.6 kB)\nCollecting nvidia-cusparse-cu12==12.1.0.106 (from torch)\n  Downloading nvidia_cusparse_cu12-12.1.0.106-py3-none-manylinux1_x86_64.whl.metadata (1.6 kB)\nCollecting nvidia-nccl-cu12==2.20.5 (from torch)\n  Downloading nvidia_nccl_cu12-2.20.5-py3-none-manylinux2014_x86_64.whl.metadata (1.8 kB)\nCollecting nvidia-nvtx-cu12==12.1.105 (from torch)\n  Downloading nvidia_nvtx_cu12-12.1.105-py3-none-manylinux1_x86_64.whl.metadata (1.7 kB)\nCollecting triton==2.3.1 (from torch)\n  Downloading triton-2.3.1-cp310-cp310-manylinux_2_17_x86_64.manylinux2014_x86_64.whl.metadata (1.4 kB)\nCollecting nvidia-nvjitlink-cu12 (from nvidia-cusolver-cu12==11.4.5.107->torch)\n  Downloading nvidia_nvjitlink_cu12-12.5.40-py3-none-manylinux2014_x86_64.whl.metadata (1.5 kB)\nRequirement already satisfied: psutil in /opt/conda/lib/python3.10/site-packages (from accelerate) (5.9.3)\nRequirement already satisfied: pyparsing!=3.0.5,>=2.0.2 in /opt/conda/lib/python3.10/site-packages (from packaging>=20.0->transformers) (3.1.1)\nRequirement already satisfied: MarkupSafe>=2.0 in /opt/conda/lib/python3.10/site-packages (from jinja2->torch) (2.1.3)\nRequirement already satisfied: charset-normalizer<4,>=2 in /opt/conda/lib/python3.10/site-packages (from requests->transformers) (3.3.2)\nRequirement already satisfied: idna<4,>=2.5 in /opt/conda/lib/python3.10/site-packages (from requests->transformers) (2.10)\nRequirement already satisfied: urllib3<3,>=1.21.1 in /opt/conda/lib/python3.10/site-packages (from requests->transformers) (1.26.18)\nRequirement already satisfied: certifi>=2017.4.17 in /opt/conda/lib/python3.10/site-packages (from requests->transformers) (2024.2.2)\nRequirement already satisfied: mpmath<1.4.0,>=1.1.0 in /opt/conda/lib/python3.10/site-packages (from sympy->torch) (1.3.0)\nDownloading torch-2.3.1-cp310-cp310-manylinux1_x86_64.whl (779.1 MB)\n\u001b[2K   \u001b[90m━━━━━━━━━━━━━━━━━━━━━━━━━━━━━━━━━━━━━━━━\u001b[0m \u001b[32m779.1/779.1 MB\u001b[0m \u001b[31m2.1 MB/s\u001b[0m eta \u001b[36m0:00:00\u001b[0m:00:01\u001b[0m00:01\u001b[0m\n\u001b[?25hDownloading nvidia_cublas_cu12-12.1.3.1-py3-none-manylinux1_x86_64.whl (410.6 MB)\n\u001b[2K   \u001b[90m━━━━━━━━━━━━━━━━━━━━━━━━━━━━━━━━━━━━━━━━\u001b[0m \u001b[32m410.6/410.6 MB\u001b[0m \u001b[31m1.8 MB/s\u001b[0m eta \u001b[36m0:00:00\u001b[0m:00:01\u001b[0m00:01\u001b[0m\n\u001b[?25hDownloading nvidia_cuda_cupti_cu12-12.1.105-py3-none-manylinux1_x86_64.whl (14.1 MB)\n\u001b[2K   \u001b[90m━━━━━━━━━━━━━━━━━━━━━━━━━━━━━━━━━━━━━━━━\u001b[0m \u001b[32m14.1/14.1 MB\u001b[0m \u001b[31m87.1 MB/s\u001b[0m eta \u001b[36m0:00:00\u001b[0m:00:01\u001b[0m00:01\u001b[0m\n\u001b[?25hDownloading nvidia_cuda_nvrtc_cu12-12.1.105-py3-none-manylinux1_x86_64.whl (23.7 MB)\n\u001b[2K   \u001b[90m━━━━━━━━━━━━━━━━━━━━━━━━━━━━━━━━━━━━━━━━\u001b[0m \u001b[32m23.7/23.7 MB\u001b[0m \u001b[31m69.9 MB/s\u001b[0m eta \u001b[36m0:00:00\u001b[0m:00:01\u001b[0m00:01\u001b[0m\n\u001b[?25hDownloading nvidia_cuda_runtime_cu12-12.1.105-py3-none-manylinux1_x86_64.whl (823 kB)\n\u001b[2K   \u001b[90m━━━━━━━━━━━━━━━━━━━━━━━━━━━━━━━━━━━━━━━━\u001b[0m \u001b[32m823.6/823.6 kB\u001b[0m \u001b[31m41.1 MB/s\u001b[0m eta \u001b[36m0:00:00\u001b[0m\n\u001b[?25hDownloading nvidia_cudnn_cu12-8.9.2.26-py3-none-manylinux1_x86_64.whl (731.7 MB)\n\u001b[2K   \u001b[90m━━━━━━━━━━━━━━━━━━━━━━━━━━━━━━━━━━━━━━━━\u001b[0m \u001b[32m731.7/731.7 MB\u001b[0m \u001b[31m2.1 MB/s\u001b[0m eta \u001b[36m0:00:00\u001b[0m:00:01\u001b[0m00:01\u001b[0m\n\u001b[?25hDownloading nvidia_cufft_cu12-11.0.2.54-py3-none-manylinux1_x86_64.whl (121.6 MB)\n\u001b[2K   \u001b[90m━━━━━━━━━━━━━━━━━━━━━━━━━━━━━━━━━━━━━━━━\u001b[0m \u001b[32m121.6/121.6 MB\u001b[0m \u001b[31m2.5 MB/s\u001b[0m eta \u001b[36m0:00:00\u001b[0m:00:01\u001b[0m00:01\u001b[0m\n\u001b[?25hDownloading nvidia_curand_cu12-10.3.2.106-py3-none-manylinux1_x86_64.whl (56.5 MB)\n\u001b[2K   \u001b[90m━━━━━━━━━━━━━━━━━━━━━━━━━━━━━━━━━━━━━━━━\u001b[0m \u001b[32m56.5/56.5 MB\u001b[0m \u001b[31m7.6 MB/s\u001b[0m eta \u001b[36m0:00:00\u001b[0m0:00:01\u001b[0m00:01\u001b[0m\n\u001b[?25hDownloading nvidia_cusolver_cu12-11.4.5.107-py3-none-manylinux1_x86_64.whl (124.2 MB)\n\u001b[2K   \u001b[90m━━━━━━━━━━━━━━━━━━━━━━━━━━━━━━━━━━━━━━━━\u001b[0m \u001b[32m124.2/124.2 MB\u001b[0m \u001b[31m13.4 MB/s\u001b[0m eta \u001b[36m0:00:00\u001b[0m00:01\u001b[0m00:01\u001b[0m\n\u001b[?25hDownloading nvidia_cusparse_cu12-12.1.0.106-py3-none-manylinux1_x86_64.whl (196.0 MB)\n\u001b[2K   \u001b[90m━━━━━━━━━━━━━━━━━━━━━━━━━━━━━━━━━━━━━━━━\u001b[0m \u001b[32m196.0/196.0 MB\u001b[0m \u001b[31m8.4 MB/s\u001b[0m eta \u001b[36m0:00:00\u001b[0m:00:01\u001b[0m00:01\u001b[0m\n\u001b[?25hDownloading nvidia_nccl_cu12-2.20.5-py3-none-manylinux2014_x86_64.whl (176.2 MB)\n\u001b[2K   \u001b[90m━━━━━━━━━━━━━━━━━━━━━━━━━━━━━━━━━━━━━━━━\u001b[0m \u001b[32m176.2/176.2 MB\u001b[0m \u001b[31m9.3 MB/s\u001b[0m eta \u001b[36m0:00:00\u001b[0m:00:01\u001b[0m00:01\u001b[0m\n\u001b[?25hDownloading nvidia_nvtx_cu12-12.1.105-py3-none-manylinux1_x86_64.whl (99 kB)\n\u001b[2K   \u001b[90m━━━━━━━━━━━━━━━━━━━━━━━━━━━━━━━━━━━━━━━━\u001b[0m \u001b[32m99.1/99.1 kB\u001b[0m \u001b[31m6.4 MB/s\u001b[0m eta \u001b[36m0:00:00\u001b[0m\n\u001b[?25hDownloading triton-2.3.1-cp310-cp310-manylinux_2_17_x86_64.manylinux2014_x86_64.whl (168.1 MB)\n\u001b[2K   \u001b[90m━━━━━━━━━━━━━━━━━━━━━━━━━━━━━━━━━━━━━━━━\u001b[0m \u001b[32m168.1/168.1 MB\u001b[0m \u001b[31m9.8 MB/s\u001b[0m eta \u001b[36m0:00:00\u001b[0m:00:01\u001b[0m00:01\u001b[0m\n\u001b[?25hDownloading accelerate-0.31.0-py3-none-any.whl (309 kB)\n\u001b[2K   \u001b[90m━━━━━━━━━━━━━━━━━━━━━━━━━━━━━━━━━━━━━━━━\u001b[0m \u001b[32m309.4/309.4 kB\u001b[0m \u001b[31m19.6 MB/s\u001b[0m eta \u001b[36m0:00:00\u001b[0m\n\u001b[?25hDownloading nvidia_nvjitlink_cu12-12.5.40-py3-none-manylinux2014_x86_64.whl (21.3 MB)\n\u001b[2K   \u001b[90m━━━━━━━━━━━━━━━━━━━━━━━━━━━━━━━━━━━━━━━━\u001b[0m \u001b[32m21.3/21.3 MB\u001b[0m \u001b[31m74.8 MB/s\u001b[0m eta \u001b[36m0:00:00\u001b[0m:00:01\u001b[0m00:01\u001b[0m\n\u001b[?25hInstalling collected packages: triton, nvidia-nvtx-cu12, nvidia-nvjitlink-cu12, nvidia-nccl-cu12, nvidia-curand-cu12, nvidia-cufft-cu12, nvidia-cuda-runtime-cu12, nvidia-cuda-nvrtc-cu12, nvidia-cuda-cupti-cu12, nvidia-cublas-cu12, nvidia-cusparse-cu12, nvidia-cudnn-cu12, nvidia-cusolver-cu12, torch, accelerate\n  Attempting uninstall: torch\n    Found existing installation: torch 2.1.2\n    Uninstalling torch-2.1.2:\n      Successfully uninstalled torch-2.1.2\n  Attempting uninstall: accelerate\n    Found existing installation: accelerate 0.30.1\n    Uninstalling accelerate-0.30.1:\n      Successfully uninstalled accelerate-0.30.1\nSuccessfully installed accelerate-0.31.0 nvidia-cublas-cu12-12.1.3.1 nvidia-cuda-cupti-cu12-12.1.105 nvidia-cuda-nvrtc-cu12-12.1.105 nvidia-cuda-runtime-cu12-12.1.105 nvidia-cudnn-cu12-8.9.2.26 nvidia-cufft-cu12-11.0.2.54 nvidia-curand-cu12-10.3.2.106 nvidia-cusolver-cu12-11.4.5.107 nvidia-cusparse-cu12-12.1.0.106 nvidia-nccl-cu12-2.20.5 nvidia-nvjitlink-cu12-12.5.40 nvidia-nvtx-cu12-12.1.105 torch-2.3.1 triton-2.3.1\n",
          "output_type": "stream"
        }
      ]
    },
    {
      "cell_type": "code",
      "source": [
        "import torch\n",
        "import pandas as pd\n",
        "import numpy as np\n",
        "from sklearn.model_selection import train_test_split\n",
        "from sklearn.metrics import classification_report, confusion_matrix\n",
        "from transformers import AlbertForSequenceClassification, AlbertTokenizer, AdamW, get_linear_schedule_with_warmup\n",
        "from torch.utils.data import TensorDataset, DataLoader, RandomSampler, SequentialSampler\n",
        "import matplotlib.pyplot as plt\n",
        "import seaborn as sns\n",
        "import joblib\n",
        "\n",
        "# Set seed for reproducibility\n",
        "import random\n",
        "seed_val = 42\n",
        "random.seed(seed_val)\n",
        "np.random.seed(seed_val)\n",
        "torch.manual_seed(seed_val)\n",
        "torch.cuda.manual_seed_all(seed_val)\n",
        "\n",
        "# Load the preprocessed data\n",
        "file_path = '/kaggle/working/preprocessed_hotel_reviews.csv'\n",
        "data = pd.read_csv(file_path)\n",
        "\n",
        "# Define the ALBERT tokenizer\n",
        "tokenizer = AlbertTokenizer.from_pretrained('albert-base-v2')\n",
        "\n",
        "# Tokenize the data\n",
        "def tokenize_data(texts, labels, tokenizer, max_len=128):\n",
        "    input_ids = []\n",
        "    attention_masks = []\n",
        "    for text in texts:\n",
        "        encoded_data = tokenizer.encode_plus(\n",
        "            text,\n",
        "            add_special_tokens=True,\n",
        "            max_length=max_len,\n",
        "            pad_to_max_length=True,\n",
        "            return_attention_mask=True,\n",
        "            return_tensors='pt'\n",
        "        )\n",
        "        input_ids.append(encoded_data['input_ids'])\n",
        "        attention_masks.append(encoded_data['attention_mask'])\n",
        "    return torch.cat(input_ids, dim=0), torch.cat(attention_masks, dim=0), torch.tensor(labels)\n",
        "\n",
        "# Prepare the data\n",
        "texts = data['Preprocessed_Text'].tolist()\n",
        "labels = data['sentiment'].apply(lambda x: 0 if x == 'negative' else (1 if x == 'neutral' else 2)).tolist()\n",
        "input_ids, attention_masks, labels = tokenize_data(texts, labels, tokenizer)\n",
        "\n",
        "# Split the data into training and testing sets\n",
        "train_inputs, test_inputs, train_labels, test_labels, train_masks, test_masks = train_test_split(\n",
        "    input_ids, labels, attention_masks, test_size=0.3, random_state=42)\n",
        "\n",
        "batch_size = 16\n",
        "\n",
        "# Create the DataLoader for training set\n",
        "train_data = TensorDataset(train_inputs, train_masks, torch.tensor(train_labels))\n",
        "train_sampler = RandomSampler(train_data)\n",
        "train_dataloader = DataLoader(train_data, sampler=train_sampler, batch_size=batch_size)\n",
        "\n",
        "# Create the DataLoader for test set\n",
        "test_data = TensorDataset(test_inputs, test_masks, torch.tensor(test_labels))\n",
        "test_sampler = SequentialSampler(test_data)\n",
        "test_dataloader = DataLoader(test_data, sampler=test_sampler, batch_size=batch_size)\n",
        "\n",
        "# Load the ALBERT model\n",
        "model = AlbertForSequenceClassification.from_pretrained(\n",
        "    'albert-base-v2',\n",
        "    num_labels=3,  # Number of classes for the classification task (negative, neutral, positive)\n",
        "    output_attentions=False,\n",
        "    output_hidden_states=False\n",
        ")\n",
        "\n",
        "# Define the optimizer\n",
        "optimizer = AdamW(model.parameters(), lr=2e-5, eps=1e-8)\n",
        "\n",
        "# Training settings\n",
        "epochs = 10\n",
        "total_steps = len(train_dataloader) * epochs\n",
        "\n",
        "# Create the learning rate scheduler\n",
        "scheduler = get_linear_schedule_with_warmup(optimizer, num_warmup_steps=0, num_training_steps=total_steps)\n",
        "\n",
        "# Function to calculate accuracy\n",
        "def flat_accuracy(preds, labels):\n",
        "    pred_flat = np.argmax(preds, axis=1).flatten()\n",
        "    labels_flat = labels.flatten()\n",
        "    return np.sum(pred_flat == labels_flat) / len(labels_flat)\n",
        "\n",
        "# Training loop with early stopping based on validation loss\n",
        "best_validation_loss = float('inf')\n",
        "patience = 3\n",
        "no_improvement_counter = 0\n",
        "model_save_path = '/kaggle/working/best_albert_model.pth'\n",
        "\n",
        "for epoch_i in range(epochs):\n",
        "    model.train()\n",
        "    total_train_loss = 0\n",
        "\n",
        "    for step, batch in enumerate(train_dataloader):\n",
        "        b_input_ids, b_input_mask, b_labels = batch\n",
        "\n",
        "        optimizer.zero_grad()\n",
        "\n",
        "        outputs = model(b_input_ids,\n",
        "                        attention_mask=b_input_mask,\n",
        "                        labels=b_labels)\n",
        "\n",
        "        loss = outputs.loss\n",
        "        total_train_loss += loss.item()\n",
        "\n",
        "        loss.backward()\n",
        "        torch.nn.utils.clip_grad_norm_(model.parameters(), 1.0)  # Gradient clipping to prevent exploding gradients\n",
        "\n",
        "        optimizer.step()\n",
        "        scheduler.step()\n",
        "\n",
        "    avg_train_loss = total_train_loss / len(train_dataloader)\n",
        "    print(f'Epoch {epoch_i + 1}/{epochs}, Train Loss: {avg_train_loss:.4f}')\n",
        "\n",
        "    # Validation\n",
        "    model.eval()\n",
        "    total_eval_accuracy = 0\n",
        "    total_eval_loss = 0\n",
        "\n",
        "    for batch in test_dataloader:\n",
        "        b_input_ids, b_input_mask, b_labels = batch\n",
        "\n",
        "        with torch.no_grad():\n",
        "            outputs = model(b_input_ids,\n",
        "                            attention_mask=b_input_mask,\n",
        "                            labels=b_labels)\n",
        "\n",
        "        loss = outputs.loss\n",
        "        total_eval_loss += loss.item()\n",
        "\n",
        "        logits = outputs.logits\n",
        "        logits = logits.detach().cpu().numpy()\n",
        "        label_ids = b_labels.to('cpu').numpy()\n",
        "\n",
        "        total_eval_accuracy += flat_accuracy(logits, label_ids)\n",
        "\n",
        "    avg_val_accuracy = total_eval_accuracy / len(test_dataloader)\n",
        "    avg_val_loss = total_eval_loss / len(test_dataloader)\n",
        "\n",
        "    print(f'Validation Accuracy: {avg_val_accuracy:.4f}, Validation Loss: {avg_val_loss:.4f}')\n",
        "\n",
        "    # Early stopping based on validation loss\n",
        "    if avg_val_loss < best_validation_loss:\n",
        "        best_validation_loss = avg_val_loss\n",
        "        no_improvement_counter = 0\n",
        "        # Save the model when it improves\n",
        "        torch.save({\n",
        "            'model_state_dict': model.state_dict(),\n",
        "            'optimizer_state_dict': optimizer.state_dict(),\n",
        "            'scheduler_state_dict': scheduler.state_dict(),\n",
        "            'epoch': epoch_i,\n",
        "            'best_validation_loss': best_validation_loss\n",
        "        }, model_save_path)\n",
        "        print(f'Model saved to {model_save_path}')\n",
        "    else:\n",
        "        no_improvement_counter += 1\n",
        "\n",
        "    if no_improvement_counter >= patience:\n",
        "        print(f'No improvement for {patience} epochs. Early stopping...')\n",
        "        break"
      ],
      "metadata": {
        "execution": {
          "iopub.status.busy": "2024-06-27T15:37:02.452313Z",
          "iopub.execute_input": "2024-06-27T15:37:02.452736Z",
          "iopub.status.idle": "2024-06-27T15:50:57.279538Z",
          "shell.execute_reply.started": "2024-06-27T15:37:02.452707Z",
          "shell.execute_reply": "2024-06-27T15:50:57.278399Z"
        },
        "trusted": true,
        "colab": {
          "referenced_widgets": [
            "dc20928bbe11431f8bb8d70f510bed69",
            "fe95d5ae6a934062b95c6b3b46879a42",
            "3fa2ed8b6f694c77a8a0ea3cc9c06042",
            "81aa346a1c414b17a83c8b7e71cf902d",
            "82f7d3f7f3fe430db4899e373369bf32"
          ]
        },
        "id": "njdOvoNjLQd8",
        "outputId": "f2072967-089f-4046-b12b-68c4f9210ce8"
      },
      "execution_count": null,
      "outputs": [
        {
          "output_type": "display_data",
          "data": {
            "text/plain": "tokenizer_config.json:   0%|          | 0.00/25.0 [00:00<?, ?B/s]",
            "application/vnd.jupyter.widget-view+json": {
              "version_major": 2,
              "version_minor": 0,
              "model_id": "dc20928bbe11431f8bb8d70f510bed69"
            }
          },
          "metadata": {}
        },
        {
          "output_type": "display_data",
          "data": {
            "text/plain": "spiece.model:   0%|          | 0.00/760k [00:00<?, ?B/s]",
            "application/vnd.jupyter.widget-view+json": {
              "version_major": 2,
              "version_minor": 0,
              "model_id": "fe95d5ae6a934062b95c6b3b46879a42"
            }
          },
          "metadata": {}
        },
        {
          "output_type": "display_data",
          "data": {
            "text/plain": "tokenizer.json:   0%|          | 0.00/1.31M [00:00<?, ?B/s]",
            "application/vnd.jupyter.widget-view+json": {
              "version_major": 2,
              "version_minor": 0,
              "model_id": "3fa2ed8b6f694c77a8a0ea3cc9c06042"
            }
          },
          "metadata": {}
        },
        {
          "name": "stderr",
          "text": "/opt/conda/lib/python3.10/site-packages/huggingface_hub/file_download.py:1132: FutureWarning: `resume_download` is deprecated and will be removed in version 1.0.0. Downloads always resume when possible. If you want to force a new download, use `force_download=True`.\n  warnings.warn(\n",
          "output_type": "stream"
        },
        {
          "output_type": "display_data",
          "data": {
            "text/plain": "config.json:   0%|          | 0.00/684 [00:00<?, ?B/s]",
            "application/vnd.jupyter.widget-view+json": {
              "version_major": 2,
              "version_minor": 0,
              "model_id": "81aa346a1c414b17a83c8b7e71cf902d"
            }
          },
          "metadata": {}
        },
        {
          "name": "stderr",
          "text": "Truncation was not explicitly activated but `max_length` is provided a specific value, please use `truncation=True` to explicitly truncate examples to max length. Defaulting to 'longest_first' truncation strategy. If you encode pairs of sequences (GLUE-style) with the tokenizer you can select this strategy more precisely by providing a specific strategy to `truncation`.\n/opt/conda/lib/python3.10/site-packages/transformers/tokenization_utils_base.py:2699: FutureWarning: The `pad_to_max_length` argument is deprecated and will be removed in a future version, use `padding=True` or `padding='longest'` to pad to the longest sequence in the batch, or use `padding='max_length'` to pad to a max length. In this case, you can give a specific length with `max_length` (e.g. `max_length=45`) or leave max_length to None to pad to the maximal input size of the model (e.g. 512 for Bert).\n  warnings.warn(\n/tmp/ipykernel_34/2059710493.py:56: UserWarning: To copy construct from a tensor, it is recommended to use sourceTensor.clone().detach() or sourceTensor.clone().detach().requires_grad_(True), rather than torch.tensor(sourceTensor).\n  train_data = TensorDataset(train_inputs, train_masks, torch.tensor(train_labels))\n/tmp/ipykernel_34/2059710493.py:61: UserWarning: To copy construct from a tensor, it is recommended to use sourceTensor.clone().detach() or sourceTensor.clone().detach().requires_grad_(True), rather than torch.tensor(sourceTensor).\n  test_data = TensorDataset(test_inputs, test_masks, torch.tensor(test_labels))\n",
          "output_type": "stream"
        },
        {
          "output_type": "display_data",
          "data": {
            "text/plain": "model.safetensors:   0%|          | 0.00/47.4M [00:00<?, ?B/s]",
            "application/vnd.jupyter.widget-view+json": {
              "version_major": 2,
              "version_minor": 0,
              "model_id": "82f7d3f7f3fe430db4899e373369bf32"
            }
          },
          "metadata": {}
        },
        {
          "name": "stderr",
          "text": "Some weights of AlbertForSequenceClassification were not initialized from the model checkpoint at albert-base-v2 and are newly initialized: ['classifier.bias', 'classifier.weight']\nYou should probably TRAIN this model on a down-stream task to be able to use it for predictions and inference.\n/opt/conda/lib/python3.10/site-packages/transformers/optimization.py:588: FutureWarning: This implementation of AdamW is deprecated and will be removed in a future version. Use the PyTorch implementation torch.optim.AdamW instead, or set `no_deprecation_warning=True` to disable this warning\n  warnings.warn(\n",
          "output_type": "stream"
        },
        {
          "name": "stdout",
          "text": "Epoch 1/10, Train Loss: 1.0207\nValidation Accuracy: 0.7917, Validation Loss: 0.8088\nModel saved to /kaggle/working/best_albert_model.pth\nEpoch 2/10, Train Loss: 0.6203\nValidation Accuracy: 0.9554, Validation Loss: 0.3944\nModel saved to /kaggle/working/best_albert_model.pth\nEpoch 3/10, Train Loss: 0.2889\nValidation Accuracy: 0.9732, Validation Loss: 0.2099\nModel saved to /kaggle/working/best_albert_model.pth\nEpoch 4/10, Train Loss: 0.1337\nValidation Accuracy: 0.9464, Validation Loss: 0.1987\nModel saved to /kaggle/working/best_albert_model.pth\nEpoch 5/10, Train Loss: 0.0619\nValidation Accuracy: 0.9464, Validation Loss: 0.1967\nModel saved to /kaggle/working/best_albert_model.pth\nEpoch 6/10, Train Loss: 0.0250\nValidation Accuracy: 0.9464, Validation Loss: 0.2237\nEpoch 7/10, Train Loss: 0.0138\nValidation Accuracy: 0.9464, Validation Loss: 0.2641\nEpoch 8/10, Train Loss: 0.0079\nValidation Accuracy: 0.9464, Validation Loss: 0.2261\nNo improvement for 3 epochs. Early stopping...\n",
          "output_type": "stream"
        }
      ]
    },
    {
      "cell_type": "code",
      "source": [
        "# Load the model state dictionary\n",
        "model_checkpoint = torch.load(model_save_path)\n",
        "\n",
        "# Save the model checkpoint using joblib\n",
        "joblib_save_path = '/kaggle/working/best_albert_model_joblib.pkl'\n",
        "joblib.dump(model_checkpoint, joblib_save_path)\n",
        "\n",
        "print(f'Model saved to {joblib_save_path}')"
      ],
      "metadata": {
        "execution": {
          "iopub.status.busy": "2024-06-27T15:51:11.151111Z",
          "iopub.execute_input": "2024-06-27T15:51:11.151593Z",
          "iopub.status.idle": "2024-06-27T15:51:11.355424Z",
          "shell.execute_reply.started": "2024-06-27T15:51:11.151556Z",
          "shell.execute_reply": "2024-06-27T15:51:11.354506Z"
        },
        "trusted": true,
        "id": "rB6Ro_OMLQd9",
        "outputId": "d9ea71e3-cb0d-49e4-d470-675cee817a96"
      },
      "execution_count": null,
      "outputs": [
        {
          "name": "stdout",
          "text": "Model saved to /kaggle/working/best_albert_model_joblib.pkl\n",
          "output_type": "stream"
        }
      ]
    },
    {
      "cell_type": "code",
      "source": [
        "# Evaluation on test set\n",
        "model.eval()\n",
        "predictions, true_labels = [], []\n",
        "\n",
        "for batch in test_dataloader:\n",
        "    b_input_ids, b_input_mask, b_labels = batch\n",
        "\n",
        "    with torch.no_grad():\n",
        "        outputs = model(b_input_ids,\n",
        "                        attention_mask=b_input_mask)\n",
        "\n",
        "    logits = outputs.logits\n",
        "    logits = logits.detach().cpu().numpy()\n",
        "    label_ids = b_labels.to('cpu').numpy()\n",
        "\n",
        "    predictions.extend(np.argmax(logits, axis=1).flatten())\n",
        "    true_labels.extend(label_ids.flatten())\n",
        "\n",
        "# Print classification report and confusion matrix\n",
        "print(classification_report(true_labels, predictions, target_names=['negative', 'neutral', 'positive'], labels=[0, 1, 2]))\n",
        "\n",
        "# Generate the confusion matrix\n",
        "conf_matrix = confusion_matrix(true_labels, predictions, labels=[0, 1, 2])\n",
        "\n",
        "# Plot confusion matrix as a heatmap\n",
        "plt.figure(figsize=(8, 6))\n",
        "sns.heatmap(conf_matrix, annot=True, fmt='d', cmap='Blues',\n",
        "            xticklabels=['negative', 'neutral', 'positive'],\n",
        "            yticklabels=['negative', 'neutral', 'positive'])\n",
        "plt.xlabel('Predicted')\n",
        "plt.ylabel('True')\n",
        "plt.title('Confusion Matrix using ALBERT')\n",
        "plt.show()"
      ],
      "metadata": {
        "execution": {
          "iopub.status.busy": "2024-06-27T15:53:32.080696Z",
          "iopub.execute_input": "2024-06-27T15:53:32.081618Z",
          "iopub.status.idle": "2024-06-27T15:53:45.623328Z",
          "shell.execute_reply.started": "2024-06-27T15:53:32.081578Z",
          "shell.execute_reply": "2024-06-27T15:53:45.622418Z"
        },
        "trusted": true,
        "id": "yEr5_FyFLQd9",
        "outputId": "dd70e871-4294-4cb5-f618-34fa1223a8c9"
      },
      "execution_count": null,
      "outputs": [
        {
          "name": "stdout",
          "text": "              precision    recall  f1-score   support\n\n    negative       0.91      1.00      0.95        41\n     neutral       0.94      0.94      0.94        35\n    positive       1.00      0.88      0.93        32\n\n    accuracy                           0.94       108\n   macro avg       0.95      0.94      0.94       108\nweighted avg       0.95      0.94      0.94       108\n\n",
          "output_type": "stream"
        },
        {
          "output_type": "display_data",
          "data": {
            "text/plain": "<Figure size 800x600 with 2 Axes>",
            "image/png": "[encoded data removed]"
          },
          "metadata": {}
        }
      ]
    },
    {
      "cell_type": "markdown",
      "source": [
        "# **Transformer Model - BERT**"
      ],
      "metadata": {
        "id": "W-vE9gzuLQd9"
      }
    },
    {
      "cell_type": "code",
      "source": [
        "import torch\n",
        "import pandas as pd\n",
        "import numpy as np\n",
        "from sklearn.model_selection import train_test_split\n",
        "from sklearn.metrics import classification_report, confusion_matrix\n",
        "from transformers import BertForSequenceClassification, BertTokenizer, AdamW, get_linear_schedule_with_warmup\n",
        "from torch.utils.data import TensorDataset, DataLoader, RandomSampler, SequentialSampler\n",
        "\n",
        "# Set seed for reproducibility\n",
        "import random\n",
        "seed_val = 42\n",
        "random.seed(seed_val)\n",
        "np.random.seed(seed_val)\n",
        "torch.manual_seed(seed_val)\n",
        "torch.cuda.manual_seed_all(seed_val)\n",
        "\n",
        "# Load the preprocessed data\n",
        "file_path = '/kaggle/working/preprocessed_hotel_reviews.csv'\n",
        "data = pd.read_csv(file_path)\n",
        "\n",
        "# Define the BERT tokenizer\n",
        "tokenizer = BertTokenizer.from_pretrained('bert-base-uncased')\n",
        "\n",
        "# Tokenize the data\n",
        "def tokenize_data(texts, labels, tokenizer, max_len=128):\n",
        "    input_ids = []\n",
        "    attention_masks = []\n",
        "    for text in texts:\n",
        "        encoded_data = tokenizer.encode_plus(\n",
        "            text,\n",
        "            add_special_tokens=True,\n",
        "            max_length=max_len,\n",
        "            pad_to_max_length=True,\n",
        "            return_attention_mask=True,\n",
        "            return_tensors='pt'\n",
        "        )\n",
        "        input_ids.append(encoded_data['input_ids'])\n",
        "        attention_masks.append(encoded_data['attention_mask'])\n",
        "    return torch.cat(input_ids, dim=0), torch.cat(attention_masks, dim=0), torch.tensor(labels)\n",
        "\n",
        "# Prepare the data\n",
        "texts = data['Preprocessed_Text'].tolist()\n",
        "labels = data['sentiment'].apply(lambda x: 0 if x == 'negative' else (1 if x == 'neutral' else 2)).tolist()\n",
        "input_ids, attention_masks, labels = tokenize_data(texts, labels, tokenizer)\n",
        "\n",
        "# Split the data into training and testing sets\n",
        "train_inputs, test_inputs, train_labels, test_labels, train_masks, test_masks = train_test_split(\n",
        "    input_ids, labels, attention_masks, test_size=0.3, random_state=42)\n",
        "\n",
        "batch_size = 16\n",
        "\n",
        "# Create the DataLoader for training set\n",
        "train_data = TensorDataset(train_inputs, train_masks, train_labels)\n",
        "train_sampler = RandomSampler(train_data)\n",
        "train_dataloader = DataLoader(train_data, sampler=train_sampler, batch_size=batch_size)\n",
        "\n",
        "# Create the DataLoader for test set\n",
        "test_data = TensorDataset(test_inputs, test_masks, test_labels)\n",
        "test_sampler = SequentialSampler(test_data)\n",
        "test_dataloader = DataLoader(test_data, sampler=test_sampler, batch_size=batch_size)\n",
        "\n",
        "# Load the BERT model\n",
        "model = BertForSequenceClassification.from_pretrained(\n",
        "    'bert-base-uncased',\n",
        "    num_labels=3, # Number of classes for the classification task (negative, neutral, positive)\n",
        "    output_attentions=False,\n",
        "    output_hidden_states=False\n",
        ")\n",
        "\n",
        "# Define the optimizer\n",
        "optimizer = AdamW(model.parameters(), lr=2e-5, eps=1e-8)\n",
        "\n",
        "# Training settings\n",
        "epochs = 10\n",
        "total_steps = len(train_dataloader) * epochs\n",
        "\n",
        "# Create the learning rate scheduler\n",
        "scheduler = get_linear_schedule_with_warmup(optimizer, num_warmup_steps=0, num_training_steps=total_steps)\n",
        "\n",
        "# Function to calculate accuracy\n",
        "def flat_accuracy(preds, labels):\n",
        "    pred_flat = np.argmax(preds, axis=1).flatten()\n",
        "    labels_flat = labels.flatten()\n",
        "    return np.sum(pred_flat == labels_flat) / len(labels_flat)\n",
        "\n",
        "# Training loop with early stopping based on validation loss\n",
        "best_validation_loss = float('inf')\n",
        "patience = 3\n",
        "no_improvement_counter = 0\n",
        "model_save_path = '/kaggle/working/best_bert_model.pth'\n",
        "\n",
        "for epoch_i in range(epochs):\n",
        "    model.train()\n",
        "    total_train_loss = 0\n",
        "\n",
        "    for step, batch in enumerate(train_dataloader):\n",
        "        b_input_ids, b_input_mask, b_labels = batch\n",
        "\n",
        "        optimizer.zero_grad()\n",
        "\n",
        "        outputs = model(b_input_ids,\n",
        "                        attention_mask=b_input_mask,\n",
        "                        labels=b_labels)\n",
        "\n",
        "        loss = outputs.loss\n",
        "        total_train_loss += loss.item()\n",
        "\n",
        "        loss.backward()\n",
        "        torch.nn.utils.clip_grad_norm_(model.parameters(), 1.0)  # Gradient clipping to prevent exploding gradients\n",
        "\n",
        "        optimizer.step()\n",
        "        scheduler.step()\n",
        "\n",
        "    avg_train_loss = total_train_loss / len(train_dataloader)\n",
        "    print(f'Epoch {epoch_i + 1}/{epochs}, Train Loss: {avg_train_loss:.4f}')\n",
        "\n",
        "    # Validation\n",
        "    model.eval()\n",
        "    total_eval_accuracy = 0\n",
        "    total_eval_loss = 0\n",
        "\n",
        "    for batch in test_dataloader:\n",
        "        b_input_ids, b_input_mask, b_labels = batch\n",
        "\n",
        "        with torch.no_grad():\n",
        "            outputs = model(b_input_ids,\n",
        "                            attention_mask=b_input_mask,\n",
        "                            labels=b_labels)\n",
        "\n",
        "        loss = outputs.loss\n",
        "        total_eval_loss += loss.item()\n",
        "\n",
        "        logits = outputs.logits\n",
        "        logits = logits.detach().cpu().numpy()\n",
        "        label_ids = b_labels.to('cpu').numpy()\n",
        "\n",
        "        total_eval_accuracy += flat_accuracy(logits, label_ids)\n",
        "\n",
        "    avg_val_accuracy = total_eval_accuracy / len(test_dataloader)\n",
        "    avg_val_loss = total_eval_loss / len(test_dataloader)\n",
        "\n",
        "    print(f'Validation Accuracy: {avg_val_accuracy:.4f}, Validation Loss: {avg_val_loss:.4f}')\n",
        "\n",
        "    # Early stopping based on validation loss\n",
        "    if avg_val_loss < best_validation_loss:\n",
        "        best_validation_loss = avg_val_loss\n",
        "        no_improvement_counter = 0\n",
        "        # Save the model when it improves\n",
        "        torch.save({\n",
        "            'model_state_dict': model.state_dict(),\n",
        "            'optimizer_state_dict': optimizer.state_dict(),\n",
        "            'scheduler_state_dict': scheduler.state_dict(),\n",
        "            'epoch': epoch_i,\n",
        "            'best_validation_loss': best_validation_loss\n",
        "        }, model_save_path)\n",
        "        print(f'Model saved to {model_save_path}')\n",
        "    else:\n",
        "        no_improvement_counter += 1\n",
        "\n",
        "    if no_improvement_counter >= patience:\n",
        "        print(f'No improvement for {patience} epochs. Early stopping...')\n",
        "        break"
      ],
      "metadata": {
        "execution": {
          "iopub.status.busy": "2024-06-27T15:55:22.342017Z",
          "iopub.execute_input": "2024-06-27T15:55:22.342425Z",
          "iopub.status.idle": "2024-06-27T16:10:36.355761Z",
          "shell.execute_reply.started": "2024-06-27T15:55:22.342396Z",
          "shell.execute_reply": "2024-06-27T16:10:36.353876Z"
        },
        "trusted": true,
        "colab": {
          "referenced_widgets": [
            "b911e099799b4275b9fe1de8bae4c781",
            "e917832324014290ade2dc6815bee49f",
            "2903bf5df17f4afd981499892e6b7666",
            "024c84b128204d338d9aa4c38ee97c1a",
            "39103c97c0244b869e7ab5e4f44daca7"
          ]
        },
        "id": "ufR4kIMZLQd9",
        "outputId": "624dab59-5ccd-41ba-f9bb-34d011fda0cd"
      },
      "execution_count": null,
      "outputs": [
        {
          "output_type": "display_data",
          "data": {
            "text/plain": "tokenizer_config.json:   0%|          | 0.00/48.0 [00:00<?, ?B/s]",
            "application/vnd.jupyter.widget-view+json": {
              "version_major": 2,
              "version_minor": 0,
              "model_id": "b911e099799b4275b9fe1de8bae4c781"
            }
          },
          "metadata": {}
        },
        {
          "output_type": "display_data",
          "data": {
            "text/plain": "vocab.txt:   0%|          | 0.00/232k [00:00<?, ?B/s]",
            "application/vnd.jupyter.widget-view+json": {
              "version_major": 2,
              "version_minor": 0,
              "model_id": "e917832324014290ade2dc6815bee49f"
            }
          },
          "metadata": {}
        },
        {
          "output_type": "display_data",
          "data": {
            "text/plain": "tokenizer.json:   0%|          | 0.00/466k [00:00<?, ?B/s]",
            "application/vnd.jupyter.widget-view+json": {
              "version_major": 2,
              "version_minor": 0,
              "model_id": "2903bf5df17f4afd981499892e6b7666"
            }
          },
          "metadata": {}
        },
        {
          "name": "stderr",
          "text": "/opt/conda/lib/python3.10/site-packages/huggingface_hub/file_download.py:1132: FutureWarning: `resume_download` is deprecated and will be removed in version 1.0.0. Downloads always resume when possible. If you want to force a new download, use `force_download=True`.\n  warnings.warn(\n",
          "output_type": "stream"
        },
        {
          "output_type": "display_data",
          "data": {
            "text/plain": "config.json:   0%|          | 0.00/570 [00:00<?, ?B/s]",
            "application/vnd.jupyter.widget-view+json": {
              "version_major": 2,
              "version_minor": 0,
              "model_id": "024c84b128204d338d9aa4c38ee97c1a"
            }
          },
          "metadata": {}
        },
        {
          "name": "stderr",
          "text": "Truncation was not explicitly activated but `max_length` is provided a specific value, please use `truncation=True` to explicitly truncate examples to max length. Defaulting to 'longest_first' truncation strategy. If you encode pairs of sequences (GLUE-style) with the tokenizer you can select this strategy more precisely by providing a specific strategy to `truncation`.\n/opt/conda/lib/python3.10/site-packages/transformers/tokenization_utils_base.py:2699: FutureWarning: The `pad_to_max_length` argument is deprecated and will be removed in a future version, use `padding=True` or `padding='longest'` to pad to the longest sequence in the batch, or use `padding='max_length'` to pad to a max length. In this case, you can give a specific length with `max_length` (e.g. `max_length=45`) or leave max_length to None to pad to the maximal input size of the model (e.g. 512 for Bert).\n  warnings.warn(\n",
          "output_type": "stream"
        },
        {
          "output_type": "display_data",
          "data": {
            "text/plain": "model.safetensors:   0%|          | 0.00/440M [00:00<?, ?B/s]",
            "application/vnd.jupyter.widget-view+json": {
              "version_major": 2,
              "version_minor": 0,
              "model_id": "39103c97c0244b869e7ab5e4f44daca7"
            }
          },
          "metadata": {}
        },
        {
          "name": "stderr",
          "text": "Some weights of BertForSequenceClassification were not initialized from the model checkpoint at bert-base-uncased and are newly initialized: ['classifier.bias', 'classifier.weight']\nYou should probably TRAIN this model on a down-stream task to be able to use it for predictions and inference.\n/opt/conda/lib/python3.10/site-packages/transformers/optimization.py:588: FutureWarning: This implementation of AdamW is deprecated and will be removed in a future version. Use the PyTorch implementation torch.optim.AdamW instead, or set `no_deprecation_warning=True` to disable this warning\n  warnings.warn(\n",
          "output_type": "stream"
        },
        {
          "name": "stdout",
          "text": "Epoch 1/10, Train Loss: 1.0915\nValidation Accuracy: 0.3661, Validation Loss: 1.0669\nModel saved to /kaggle/working/best_bert_model.pth\nEpoch 2/10, Train Loss: 0.9379\nValidation Accuracy: 0.7976, Validation Loss: 0.7793\nModel saved to /kaggle/working/best_bert_model.pth\nEpoch 3/10, Train Loss: 0.6055\nValidation Accuracy: 0.9196, Validation Loss: 0.4537\nModel saved to /kaggle/working/best_bert_model.pth\nEpoch 4/10, Train Loss: 0.3425\nValidation Accuracy: 0.9464, Validation Loss: 0.2657\nModel saved to /kaggle/working/best_bert_model.pth\nEpoch 5/10, Train Loss: 0.1835\nValidation Accuracy: 0.9464, Validation Loss: 0.1833\nModel saved to /kaggle/working/best_bert_model.pth\nEpoch 6/10, Train Loss: 0.1006\nValidation Accuracy: 0.9554, Validation Loss: 0.1166\nModel saved to /kaggle/working/best_bert_model.pth\nEpoch 7/10, Train Loss: 0.0555\nValidation Accuracy: 0.9464, Validation Loss: 0.1329\nEpoch 8/10, Train Loss: 0.0369\nValidation Accuracy: 0.9643, Validation Loss: 0.1194\nEpoch 9/10, Train Loss: 0.0258\nValidation Accuracy: 0.9554, Validation Loss: 0.1198\nNo improvement for 3 epochs. Early stopping...\n",
          "output_type": "stream"
        }
      ]
    },
    {
      "cell_type": "code",
      "source": [
        "# Load the model state dictionary\n",
        "model_checkpoint = torch.load(model_save_path)\n",
        "\n",
        "# Save the model checkpoint using joblib\n",
        "joblib_save_path = '/kaggle/working/best_bert_model_joblib.pkl'\n",
        "joblib.dump(model_checkpoint, joblib_save_path)\n",
        "\n",
        "print(f'Model saved to {joblib_save_path}')"
      ],
      "metadata": {
        "execution": {
          "iopub.status.busy": "2024-06-27T16:10:36.357790Z",
          "iopub.execute_input": "2024-06-27T16:10:36.358798Z",
          "iopub.status.idle": "2024-06-27T16:10:38.136170Z",
          "shell.execute_reply.started": "2024-06-27T16:10:36.358745Z",
          "shell.execute_reply": "2024-06-27T16:10:38.135280Z"
        },
        "trusted": true,
        "id": "y7WqdDAPLQd9",
        "outputId": "e1b67695-326a-47a3-f0b2-5a5dee9177f9"
      },
      "execution_count": null,
      "outputs": [
        {
          "name": "stdout",
          "text": "Model saved to /kaggle/working/best_bert_model_joblib.pkl\n",
          "output_type": "stream"
        }
      ]
    },
    {
      "cell_type": "code",
      "source": [
        "# Evaluation on test set\n",
        "model.eval()\n",
        "predictions, true_labels = [], []\n",
        "\n",
        "for batch in test_dataloader:\n",
        "    b_input_ids, b_input_mask, b_labels = batch\n",
        "\n",
        "    with torch.no_grad():\n",
        "        outputs = model(b_input_ids,\n",
        "                        token_type_ids=None,\n",
        "                        attention_mask=b_input_mask)\n",
        "\n",
        "    logits = outputs.logits\n",
        "    logits = logits.detach().cpu().numpy()\n",
        "    label_ids = b_labels.to('cpu').numpy()\n",
        "\n",
        "    predictions.extend(np.argmax(logits, axis=1).flatten())\n",
        "    true_labels.extend(label_ids.flatten())\n",
        "\n",
        "# Print classification report and confusion matrix\n",
        "print(classification_report(true_labels, predictions, target_names=['negative', 'neutral', 'positive'], labels=[0, 1, 2]))\n",
        "\n",
        "# Generate the confusion matrix\n",
        "conf_matrix = confusion_matrix(true_labels, predictions, labels=[0, 1, 2])\n",
        "\n",
        "# Plot confusion matrix as a heatmap\n",
        "plt.figure(figsize=(8, 6))\n",
        "sns.heatmap(conf_matrix, annot=True, fmt='d', cmap='Blues',\n",
        "            xticklabels=['negative', 'neutral', 'positive'],\n",
        "            yticklabels=['negative', 'neutral', 'positive'])\n",
        "plt.xlabel('Predicted')\n",
        "plt.ylabel('True')\n",
        "plt.title('Confusion Matrix using BERT')\n",
        "plt.show()"
      ],
      "metadata": {
        "execution": {
          "iopub.status.busy": "2024-06-27T16:10:38.137607Z",
          "iopub.execute_input": "2024-06-27T16:10:38.137924Z",
          "iopub.status.idle": "2024-06-27T16:10:50.745086Z",
          "shell.execute_reply.started": "2024-06-27T16:10:38.137897Z",
          "shell.execute_reply": "2024-06-27T16:10:50.744147Z"
        },
        "trusted": true,
        "id": "BHVuL9jYLQd9",
        "outputId": "318dff38-e8ba-4b54-c775-648909dbee6e"
      },
      "execution_count": null,
      "outputs": [
        {
          "name": "stdout",
          "text": "              precision    recall  f1-score   support\n\n    negative       0.91      1.00      0.95        41\n     neutral       0.97      0.94      0.96        35\n    positive       1.00      0.91      0.95        32\n\n    accuracy                           0.95       108\n   macro avg       0.96      0.95      0.95       108\nweighted avg       0.96      0.95      0.95       108\n\n",
          "output_type": "stream"
        },
        {
          "output_type": "display_data",
          "data": {
            "text/plain": "<Figure size 800x600 with 2 Axes>",
            "image/png": "[encoded data removed]"
          },
          "metadata": {}
        }
      ]
    },
    {
      "cell_type": "markdown",
      "source": [
        "# **Text on Deployment**"
      ],
      "metadata": {
        "id": "aAPIHeZMLQd9"
      }
    },
    {
      "cell_type": "code",
      "source": [
        "import re\n",
        "import contractions\n",
        "import emoji\n",
        "from string import punctuation\n",
        "from nltk.tokenize import word_tokenize\n",
        "from nltk.stem import WordNetLemmatizer\n",
        "from sklearn.base import BaseEstimator, TransformerMixin\n",
        "\n",
        "# Initialize lemmatizer outside the class\n",
        "lemmatizer = WordNetLemmatizer()\n",
        "\n",
        "class PreprocessTransformer(BaseEstimator, TransformerMixin):\n",
        "    def __init__(self, src_lang='auto'):\n",
        "        self.src_lang = src_lang\n",
        "        self.translator = None  # Initialize translator in a method\n",
        "\n",
        "    def fit(self, X, y=None):\n",
        "        return self\n",
        "\n",
        "    def transform(self, X, y=None):\n",
        "        if self.translator is None:\n",
        "            self.translator = Translator()  # Initialize here to avoid pickling issues\n",
        "        return [self.preprocess(text) for text in X]\n",
        "\n",
        "    def preprocess(self, text):\n",
        "        # Translate to English\n",
        "        translated_text = self.translate_to_english(text, self.src_lang)\n",
        "\n",
        "        # Lowercasing\n",
        "        translated_text = translated_text.lower()\n",
        "\n",
        "        # Expand contractions\n",
        "        text = contractions.fix(translated_text)\n",
        "\n",
        "        # Remove emojis\n",
        "        text = emoji.replace_emoji(text, replace='')\n",
        "\n",
        "        # Removing punctuation\n",
        "        text = text.translate(str.maketrans('', '', punctuation))\n",
        "\n",
        "        # Removing numeric values\n",
        "        cleaned_text = re.sub(r'\\d+', '', text)\n",
        "\n",
        "        # Tokenization\n",
        "        tokens = word_tokenize(cleaned_text)\n",
        "\n",
        "        # Lemmatization\n",
        "        tokens = [lemmatizer.lemmatize(token) for token in tokens]\n",
        "\n",
        "        return ' '.join(tokens)\n",
        "\n",
        "    def translate_to_english(self, text, src_lang):\n",
        "        if src_lang != 'en':\n",
        "            try:\n",
        "                translated = self.translator.translate(text, src=src_lang, dest='en')\n",
        "                return translated.text\n",
        "            except Exception as e:\n",
        "                print(f\"Translation error: {e}\")\n",
        "                return text\n",
        "        else:\n",
        "            return text"
      ],
      "metadata": {
        "execution": {
          "iopub.status.busy": "2024-06-27T16:12:48.465828Z",
          "iopub.execute_input": "2024-06-27T16:12:48.466216Z",
          "iopub.status.idle": "2024-06-27T16:12:48.478211Z",
          "shell.execute_reply.started": "2024-06-27T16:12:48.466185Z",
          "shell.execute_reply": "2024-06-27T16:12:48.477165Z"
        },
        "trusted": true,
        "id": "hgFGlSR5LQd9"
      },
      "execution_count": null,
      "outputs": []
    },
    {
      "cell_type": "code",
      "source": [
        "from sklearn.pipeline import Pipeline\n",
        "import joblib\n",
        "\n",
        "# Create the preprocessing pipeline\n",
        "preprocess_pipeline = Pipeline([\n",
        "    ('preprocess', PreprocessTransformer())\n",
        "])\n",
        "\n",
        "# Example data (replace with your actual data)\n",
        "texts = [\"The hotel was great!\", \"The room was dirty.\", \"Service was okay.\"]\n",
        "\n",
        "# Fit the pipeline (no fitting needed for preprocessing)\n",
        "preprocess_pipeline.fit(texts)\n",
        "\n",
        "# Save the preprocessing pipeline\n",
        "preprocess_pipeline_save_path = '/kaggle/working/preprocess_pipeline.pkl'\n",
        "joblib.dump(preprocess_pipeline, preprocess_pipeline_save_path)\n",
        "\n",
        "print(f'Preprocessing pipeline saved to {preprocess_pipeline_save_path}')"
      ],
      "metadata": {
        "execution": {
          "iopub.status.busy": "2024-06-27T16:12:57.279134Z",
          "iopub.execute_input": "2024-06-27T16:12:57.279742Z",
          "iopub.status.idle": "2024-06-27T16:12:57.291295Z",
          "shell.execute_reply.started": "2024-06-27T16:12:57.279701Z",
          "shell.execute_reply": "2024-06-27T16:12:57.290249Z"
        },
        "trusted": true,
        "id": "ozAnqlGmLQd-",
        "outputId": "dea75a99-294e-4960-f5cd-3c7da9bc3518"
      },
      "execution_count": null,
      "outputs": [
        {
          "name": "stdout",
          "text": "Preprocessing pipeline saved to /kaggle/working/preprocess_pipeline.pkl\n",
          "output_type": "stream"
        }
      ]
    },
    {
      "cell_type": "code",
      "source": [
        "import torch\n",
        "from sklearn.base import BaseEstimator, TransformerMixin\n",
        "from transformers import BertForSequenceClassification, BertTokenizer\n",
        "\n",
        "class BertClassifier(BaseEstimator, TransformerMixin):\n",
        "    def __init__(self, model_path=None, num_labels=3):\n",
        "        self.model_path = model_path\n",
        "        self.num_labels = num_labels\n",
        "        self.device = torch.device('cuda' if torch.cuda.is_available() else 'cpu')\n",
        "        self.model = None\n",
        "        self.tokenizer = BertTokenizer.from_pretrained('bert-base-uncased')\n",
        "\n",
        "    def fit(self, X, y=None):\n",
        "        return self  # Model training happens outside this pipeline\n",
        "\n",
        "    def load_model(self):\n",
        "        if self.model_path and not self.model:\n",
        "            self.model = BertForSequenceClassification.from_pretrained('bert-base-uncased', num_labels=self.num_labels)\n",
        "            self.model.load_state_dict(torch.load(self.model_path)['model_state_dict'])\n",
        "            self.model.to(self.device)\n",
        "            self.model.eval()\n",
        "\n",
        "    def predict(self, X):\n",
        "        self.load_model()\n",
        "        inputs = self.tokenizer.batch_encode_plus(\n",
        "            X,\n",
        "            add_special_tokens=True,\n",
        "            max_length=128,\n",
        "            pad_to_max_length=True,\n",
        "            return_attention_mask=True,\n",
        "            return_tensors='pt'\n",
        "        )\n",
        "        input_ids = inputs['input_ids'].to(self.device)\n",
        "        attention_masks = inputs['attention_mask'].to(self.device)\n",
        "\n",
        "        with torch.no_grad():\n",
        "            outputs = self.model(input_ids, attention_mask=attention_masks)\n",
        "            logits = outputs.logits\n",
        "            predictions = torch.argmax(logits, dim=1).cpu().numpy()\n",
        "\n",
        "        return predictions\n",
        "\n",
        "    def predict_proba(self, X):\n",
        "        self.load_model()\n",
        "        inputs = self.tokenizer.batch_encode_plus(\n",
        "            X,\n",
        "            add_special_tokens=True,\n",
        "            max_length=128,\n",
        "            pad_to_max_length=True,\n",
        "            return_attention_mask=True,\n",
        "            return_tensors='pt'\n",
        "        )\n",
        "        input_ids = inputs['input_ids'].to(self.device)\n",
        "        attention_masks = inputs['attention_mask'].to(self.device)\n",
        "\n",
        "        with torch.no_grad():\n",
        "            outputs = self.model(input_ids, attention_mask=attention_masks)\n",
        "            logits = outputs.logits\n",
        "            probabilities = torch.nn.functional.softmax(logits, dim=1).cpu().numpy()\n",
        "\n",
        "        return probabilities\n",
        "\n",
        "import joblib\n",
        "\n",
        "# Save the model wrapper separately\n",
        "model_save_path = '/kaggle/working/best_bert_model.pth'\n",
        "\n",
        "# Assuming the model is already trained and saved at model_save_path\n",
        "# Save the model class\n",
        "bert_model_save_path = '/kaggle/working/bert_model.pkl'\n",
        "joblib.dump(BertClassifier(model_path=model_save_path), bert_model_save_path)\n",
        "\n",
        "print(f'BERT model wrapper saved to {bert_model_save_path}')"
      ],
      "metadata": {
        "execution": {
          "iopub.status.busy": "2024-06-27T16:24:15.953572Z",
          "iopub.execute_input": "2024-06-27T16:24:15.954306Z",
          "iopub.status.idle": "2024-06-27T16:24:16.650382Z",
          "shell.execute_reply.started": "2024-06-27T16:24:15.954273Z",
          "shell.execute_reply": "2024-06-27T16:24:16.649389Z"
        },
        "trusted": true,
        "id": "L2UkzPN4LQd-",
        "outputId": "6b7bf7ee-dc17-4444-c9ad-1cb4e6fcc946"
      },
      "execution_count": null,
      "outputs": [
        {
          "name": "stdout",
          "text": "BERT model wrapper saved to /kaggle/working/bert_model.pkl\n",
          "output_type": "stream"
        }
      ]
    },
    {
      "cell_type": "code",
      "source": [
        "import joblib\n",
        "\n",
        "# Load the preprocessing pipeline\n",
        "preprocess_pipeline = joblib.load('/kaggle/working/preprocess_pipeline.pkl')\n",
        "\n",
        "# Load the model wrapper\n",
        "bert_model_wrapper = joblib.load('/kaggle/working/bert_model.pkl')\n",
        "\n",
        "# Set the path to the model weights\n",
        "bert_model_wrapper.model_path = '/kaggle/working/best_bert_model.pth'\n",
        "\n",
        "# Ensure the model is loaded\n",
        "bert_model_wrapper.load_model()\n",
        "\n",
        "# Example data for prediction\n",
        "texts = [\"The hotel was great.\", \"The hotel was great\",\"The room was dirty.\", \"Service was okay.\",\"The service is good but slow.\",\"服务很好\"]\n",
        "\n",
        "# Preprocess the texts\n",
        "preprocessed_texts = preprocess_pipeline.transform(texts)\n",
        "\n",
        "# Predict sentiments\n",
        "predictions = bert_model_wrapper.predict(preprocessed_texts)\n",
        "print(predictions)  # Output: [2, 0, 1] (or similar, depending on your labels)"
      ],
      "metadata": {
        "execution": {
          "iopub.status.busy": "2024-06-27T16:27:19.151549Z",
          "iopub.execute_input": "2024-06-27T16:27:19.151942Z",
          "iopub.status.idle": "2024-06-27T16:27:21.088873Z",
          "shell.execute_reply.started": "2024-06-27T16:27:19.151913Z",
          "shell.execute_reply": "2024-06-27T16:27:21.087952Z"
        },
        "trusted": true,
        "id": "L5NsLdFYLQd-",
        "outputId": "b2b62e02-996f-4ded-cf2b-63135cd4ea5f"
      },
      "execution_count": null,
      "outputs": [
        {
          "name": "stderr",
          "text": "Some weights of BertForSequenceClassification were not initialized from the model checkpoint at bert-base-uncased and are newly initialized: ['classifier.bias', 'classifier.weight']\nYou should probably TRAIN this model on a down-stream task to be able to use it for predictions and inference.\nTruncation was not explicitly activated but `max_length` is provided a specific value, please use `truncation=True` to explicitly truncate examples to max length. Defaulting to 'longest_first' truncation strategy. If you encode pairs of sequences (GLUE-style) with the tokenizer you can select this strategy more precisely by providing a specific strategy to `truncation`.\n",
          "output_type": "stream"
        },
        {
          "name": "stdout",
          "text": "[2 2 0 2 1 2]\n",
          "output_type": "stream"
        }
      ]
    },
    {
      "cell_type": "code",
      "source": [],
      "metadata": {
        "id": "xAHPlKihLQd-"
      },
      "execution_count": null,
      "outputs": []
    }
  ]
}